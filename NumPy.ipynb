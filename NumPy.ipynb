{
  "nbformat": 4,
  "nbformat_minor": 0,
  "metadata": {
    "colab": {
      "name": "NumPy.ipynb",
      "provenance": [],
      "collapsed_sections": [],
      "authorship_tag": "ABX9TyPqAa1Ic3B1AFkXCZJI859m",
      "include_colab_link": true
    },
    "kernelspec": {
      "name": "python3",
      "display_name": "Python 3"
    },
    "language_info": {
      "name": "python"
    }
  },
  "cells": [
    {
      "cell_type": "markdown",
      "metadata": {
        "id": "view-in-github",
        "colab_type": "text"
      },
      "source": [
        "<a href=\"https://colab.research.google.com/github/MorshedulHoque/NumPy/blob/main/NumPy.ipynb\" target=\"_parent\"><img src=\"https://colab.research.google.com/assets/colab-badge.svg\" alt=\"Open In Colab\"/></a>"
      ]
    },
    {
      "cell_type": "markdown",
      "source": [
        "First you have to install numpy to use it."
      ],
      "metadata": {
        "id": "5PcRjE31DBOA"
      }
    },
    {
      "cell_type": "code",
      "execution_count": null,
      "metadata": {
        "colab": {
          "base_uri": "https://localhost:8080/"
        },
        "id": "V6zuGw7dCsQZ",
        "outputId": "f5a7047c-d13e-4886-9983-245d8e2f2dbc"
      },
      "outputs": [
        {
          "output_type": "stream",
          "name": "stdout",
          "text": [
            "Requirement already satisfied: Numpy in /usr/local/lib/python3.7/dist-packages (1.21.5)\n"
          ]
        }
      ],
      "source": [
        "pip install Numpy"
      ]
    },
    {
      "cell_type": "markdown",
      "source": [
        "Then you have to import it. NumPy is usually imported under the np **alias**.\n",
        "In Python **alias** are an alternate name for referring to the same thing."
      ],
      "metadata": {
        "id": "_ls6tSMtDRkJ"
      }
    },
    {
      "cell_type": "code",
      "source": [
        "import numpy as np\n",
        "\n",
        "arr = np.array([1, 2, 3, 4, 5])\n",
        "\n",
        "print(arr)"
      ],
      "metadata": {
        "colab": {
          "base_uri": "https://localhost:8080/"
        },
        "id": "y8La_q_2CutM",
        "outputId": "658a775a-bf53-428c-db8d-fbe6ae3a60c0"
      },
      "execution_count": null,
      "outputs": [
        {
          "output_type": "stream",
          "name": "stdout",
          "text": [
            "[1 2 3 4 5]\n"
          ]
        }
      ]
    },
    {
      "cell_type": "markdown",
      "source": [
        "Cheking version"
      ],
      "metadata": {
        "id": "1Ty4svs_DySo"
      }
    },
    {
      "cell_type": "code",
      "source": [
        "print(np.__version__)"
      ],
      "metadata": {
        "colab": {
          "base_uri": "https://localhost:8080/"
        },
        "id": "vy2KbJa4CuvI",
        "outputId": "30f29ec6-d159-459c-b497-04a7942e4425"
      },
      "execution_count": null,
      "outputs": [
        {
          "output_type": "stream",
          "name": "stdout",
          "text": [
            "1.21.5\n"
          ]
        }
      ]
    },
    {
      "cell_type": "markdown",
      "source": [
        "NumPy is used to work with arrays. The array object in NumPy is called **ndarray**"
      ],
      "metadata": {
        "id": "gPzMgctYEJWr"
      }
    },
    {
      "cell_type": "code",
      "source": [
        "print(type(arr))"
      ],
      "metadata": {
        "colab": {
          "base_uri": "https://localhost:8080/"
        },
        "id": "R3BZG6BnCuy_",
        "outputId": "b7ee1866-c652-4831-87d6-e8def8ea5f84"
      },
      "execution_count": null,
      "outputs": [
        {
          "output_type": "stream",
          "name": "stdout",
          "text": [
            "<class 'numpy.ndarray'>\n"
          ]
        }
      ]
    },
    {
      "cell_type": "markdown",
      "source": [
        "**0-D Arrays**\n",
        "\n",
        "0-D arrays, or Scalars, are the elements in an array. Each value in an array is a 0-D array."
      ],
      "metadata": {
        "id": "Lx81Iuz3G6JW"
      }
    },
    {
      "cell_type": "code",
      "source": [
        "a = np.array(42)\n",
        "\n",
        "print(a)"
      ],
      "metadata": {
        "colab": {
          "base_uri": "https://localhost:8080/"
        },
        "id": "-jM2GR7TCu0y",
        "outputId": "56669d4a-500b-4d0c-9b96-876103ab37df"
      },
      "execution_count": null,
      "outputs": [
        {
          "output_type": "stream",
          "name": "stdout",
          "text": [
            "42\n"
          ]
        }
      ]
    },
    {
      "cell_type": "markdown",
      "source": [
        "**1-D Arrays**\n",
        "\n",
        "An array that has 0-D arrays as its elements is called uni-dimensional or 1-D array."
      ],
      "metadata": {
        "id": "8_yhT0zOHHzL"
      }
    },
    {
      "cell_type": "code",
      "source": [
        "b = np.array([1, 2, 3, 4])\n",
        "print(b)"
      ],
      "metadata": {
        "colab": {
          "base_uri": "https://localhost:8080/"
        },
        "id": "nDyEcT8kCu4q",
        "outputId": "b42b1632-05e3-4885-a616-983584227e02"
      },
      "execution_count": null,
      "outputs": [
        {
          "output_type": "stream",
          "name": "stdout",
          "text": [
            "[1 2 3 4]\n"
          ]
        }
      ]
    },
    {
      "cell_type": "markdown",
      "source": [
        "**2-D Arrays**\n",
        "\n",
        "An array that has 1-D arrays as its elements is called a 2-D array.\n",
        "\n",
        "These are often used to represent matrix or 2nd order tensors."
      ],
      "metadata": {
        "id": "f18-NioWHrUB"
      }
    },
    {
      "cell_type": "code",
      "source": [
        "c = np.array([[1,2,3],[4,5,6]])\n",
        "print(c)"
      ],
      "metadata": {
        "colab": {
          "base_uri": "https://localhost:8080/"
        },
        "id": "DAI1sahGCu6e",
        "outputId": "d8e13a84-71ab-4706-8f96-1baad0b6b901"
      },
      "execution_count": null,
      "outputs": [
        {
          "output_type": "stream",
          "name": "stdout",
          "text": [
            "[[1 2 3]\n",
            " [4 5 6]]\n"
          ]
        }
      ]
    },
    {
      "cell_type": "markdown",
      "source": [
        "**3-D arrays**\n",
        "\n",
        "An array that has 2-D arrays (matrices) as its elements is called 3-D array.\n",
        "\n",
        "These are often used to represent a 3rd order tensor."
      ],
      "metadata": {
        "id": "TLQzDwEOIRMh"
      }
    },
    {
      "cell_type": "code",
      "source": [
        "d = np.array([[[1, 2, 3], [4, 5, 6], [1, 2, 3], [4, 5, 6]]])\n",
        "\n",
        "print(d)"
      ],
      "metadata": {
        "colab": {
          "base_uri": "https://localhost:8080/"
        },
        "id": "4IG62W0ECu9-",
        "outputId": "d8770479-8c48-41e1-cf6d-79f9b8a2fac1"
      },
      "execution_count": null,
      "outputs": [
        {
          "output_type": "stream",
          "name": "stdout",
          "text": [
            "[[[1 2 3]\n",
            "  [4 5 6]\n",
            "  [1 2 3]\n",
            "  [4 5 6]]]\n"
          ]
        }
      ]
    },
    {
      "cell_type": "markdown",
      "source": [
        "Check Number of Dimensions"
      ],
      "metadata": {
        "id": "KyYnX18HIvw8"
      }
    },
    {
      "cell_type": "code",
      "source": [
        "print(a.ndim)\n",
        "print(b.ndim)\n",
        "print(c.ndim)\n",
        "print(d.ndim)"
      ],
      "metadata": {
        "colab": {
          "base_uri": "https://localhost:8080/"
        },
        "id": "5kx0f1EFCu_y",
        "outputId": "2f330e0f-586b-4e6b-c1d9-e3cfc5ff65f8"
      },
      "execution_count": null,
      "outputs": [
        {
          "output_type": "stream",
          "name": "stdout",
          "text": [
            "0\n",
            "1\n",
            "2\n",
            "3\n"
          ]
        }
      ]
    },
    {
      "cell_type": "markdown",
      "source": [
        "Define number of dimentions"
      ],
      "metadata": {
        "id": "sI64L47eI_fl"
      }
    },
    {
      "cell_type": "code",
      "source": [
        "arr = np.array([1, 2, 3, 4], ndmin=5)\n",
        "\n",
        "print(arr)\n",
        "print('number of dimensions :', arr.ndim)"
      ],
      "metadata": {
        "colab": {
          "base_uri": "https://localhost:8080/"
        },
        "id": "lnacnQzbCvDd",
        "outputId": "849ef1cc-5a1b-41d2-c2e7-03ccf1c44067"
      },
      "execution_count": null,
      "outputs": [
        {
          "output_type": "stream",
          "name": "stdout",
          "text": [
            "[[[[[1 2 3 4]]]]]\n",
            "number of dimensions : 5\n"
          ]
        }
      ]
    },
    {
      "cell_type": "markdown",
      "source": [
        "Access Array Elements"
      ],
      "metadata": {
        "id": "KZuyps1SJQ0p"
      }
    },
    {
      "cell_type": "code",
      "source": [
        "arr = np.array([1, 2, 3, 4])\n",
        "\n",
        "print(arr[0])"
      ],
      "metadata": {
        "colab": {
          "base_uri": "https://localhost:8080/"
        },
        "id": "fBJRodQNCvGF",
        "outputId": "12e5e441-b133-496b-ebeb-7d4188c7dff8"
      },
      "execution_count": null,
      "outputs": [
        {
          "output_type": "stream",
          "name": "stdout",
          "text": [
            "1\n"
          ]
        }
      ]
    },
    {
      "cell_type": "markdown",
      "source": [
        "Add two elements from array"
      ],
      "metadata": {
        "id": "9qMEo8lNJbbG"
      }
    },
    {
      "cell_type": "code",
      "source": [
        "arr = np.array([1, 2, 3, 4])\n",
        "\n",
        "print(arr[2] + arr[3])"
      ],
      "metadata": {
        "colab": {
          "base_uri": "https://localhost:8080/"
        },
        "id": "87mtj628CvJa",
        "outputId": "5328f67e-d453-4e35-8b3f-24262a7a7e44"
      },
      "execution_count": null,
      "outputs": [
        {
          "output_type": "stream",
          "name": "stdout",
          "text": [
            "7\n"
          ]
        }
      ]
    },
    {
      "cell_type": "markdown",
      "source": [
        "Access the element on the first row, second column.\n",
        "\n",
        "![Untitled Diagram.drawio (2).png](data:image/png;base64,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)"
      ],
      "metadata": {
        "id": "YRxwTVMhJn_1"
      }
    },
    {
      "cell_type": "code",
      "source": [
        "arr = np.array([[1,2,3,4,5], [6,7,8,9,10]])\n",
        "\n",
        "print('2nd element on 1st row: ', arr[0, 1])"
      ],
      "metadata": {
        "colab": {
          "base_uri": "https://localhost:8080/"
        },
        "id": "2yox6QBVCvLd",
        "outputId": "9e1b7889-4bdf-48ad-9375-9fe14fed1fd0"
      },
      "execution_count": null,
      "outputs": [
        {
          "output_type": "stream",
          "name": "stdout",
          "text": [
            "2nd element on 1st row:  2\n"
          ]
        }
      ]
    },
    {
      "cell_type": "code",
      "source": [
        "arr = np.array([[1,2,3,4,5], [6,7,8,9,10]])\n",
        "\n",
        "print('5th element on 2nd row: ', arr[1, 4])"
      ],
      "metadata": {
        "colab": {
          "base_uri": "https://localhost:8080/"
        },
        "id": "OT7eNikuCvOr",
        "outputId": "bd74c8e3-6e19-406f-d7ba-e3b1bba19360"
      },
      "execution_count": null,
      "outputs": [
        {
          "output_type": "stream",
          "name": "stdout",
          "text": [
            "5th element on 2nd row:  10\n"
          ]
        }
      ]
    },
    {
      "cell_type": "markdown",
      "source": [
        "The first number represents the first dimension, which contains two arrays:\n",
        "\n",
        "[[1, 2, 3], [4, 5, 6]]\n",
        "\n",
        "and:\n",
        "\n",
        "[[7, 8, 9], [10, 11, 12]]\n",
        "\n",
        "Since we selected 0, we are left with the first array:\n",
        "\n",
        "[[1, 2, 3], [4, 5, 6]]\n",
        "\n",
        "The second number represents the second dimension, which also contains two arrays:\n",
        "\n",
        "[1, 2, 3]\n",
        "\n",
        "and:\n",
        "\n",
        "[4, 5, 6]\n",
        "\n",
        "Since we selected 1, we are left with the second array:\n",
        "\n",
        "[4, 5, 6]\n",
        "\n",
        "The third number represents the third dimension, which contains three values:\n",
        "\n",
        "4\n",
        "5\n",
        "6\n",
        "\n",
        "Since we selected 2, we end up with the third value:\n",
        "\n",
        "6\n"
      ],
      "metadata": {
        "id": "6s3_1PAyPHnA"
      }
    },
    {
      "cell_type": "code",
      "source": [
        "arr = np.array([[[1, 2, 3], [4, 5, 6]], [[7, 8, 9], [10, 11, 12]]])\n",
        "\n",
        "print(arr[0, 1, 2])"
      ],
      "metadata": {
        "colab": {
          "base_uri": "https://localhost:8080/"
        },
        "id": "fHacfSwdCvQn",
        "outputId": "7ca8fdee-1910-4c21-e3df-63bea6da4a13"
      },
      "execution_count": null,
      "outputs": [
        {
          "output_type": "stream",
          "name": "stdout",
          "text": [
            "6\n"
          ]
        }
      ]
    },
    {
      "cell_type": "code",
      "source": [
        "arr = np.array([[1,2,3,4,5], [6,7,8,9,10]])\n",
        "\n",
        "print('Last element from 2nd dim: ', arr[1, -1])"
      ],
      "metadata": {
        "colab": {
          "base_uri": "https://localhost:8080/"
        },
        "id": "mhWAosy2CvUG",
        "outputId": "b6e6a94a-cb43-4e78-a71a-4b61f1ef8a70"
      },
      "execution_count": null,
      "outputs": [
        {
          "output_type": "stream",
          "name": "stdout",
          "text": [
            "Last element from 2nd dim:  10\n"
          ]
        }
      ]
    },
    {
      "cell_type": "markdown",
      "source": [
        "**Slicing arrays**\n",
        "\n",
        "Slicing in python means taking elements from one given index to another given index.\n",
        "\n",
        "We pass slice instead of index like this: [start:end].\n",
        "\n",
        "We can also define the step, like this: [start:end:step].\n",
        "\n",
        "If we don't pass start its considered 0\n",
        "\n",
        "If we don't pass end its considered length of array in that dimension\n",
        "\n",
        "If we don't pass step its considered 1\n",
        "\n",
        "It consider the left element of colon but not consider the right element of colon. Example: \n",
        "array[1:6]. Here, left index considered. Mean that start from element number 1. But it not consider the right side index, mean it does not added index number 6.It stoped in index 5."
      ],
      "metadata": {
        "id": "5WTuhOOJPv9t"
      }
    },
    {
      "cell_type": "code",
      "source": [
        "arr = np.array([1, 2, 3, 4, 5, 6, 7])\n",
        "\n",
        "print(arr[1:5])"
      ],
      "metadata": {
        "colab": {
          "base_uri": "https://localhost:8080/"
        },
        "id": "5cJvKCl7CvWF",
        "outputId": "3e9f849a-f099-422b-8b99-ca29575aa748"
      },
      "execution_count": null,
      "outputs": [
        {
          "output_type": "stream",
          "name": "stdout",
          "text": [
            "[2 3 4 5]\n"
          ]
        }
      ]
    },
    {
      "cell_type": "markdown",
      "source": [
        "Slice elements from index 4 to the end of the array:"
      ],
      "metadata": {
        "id": "oWtcWWZ-QYCn"
      }
    },
    {
      "cell_type": "code",
      "source": [
        "arr = np.array([1, 2, 3, 4, 5, 6, 7])\n",
        "\n",
        "print(arr[4:])"
      ],
      "metadata": {
        "id": "OEJpzQatPh4Q"
      },
      "execution_count": null,
      "outputs": []
    },
    {
      "cell_type": "markdown",
      "source": [
        "Slice elements from the beginning to index 4 (not included):"
      ],
      "metadata": {
        "id": "-evsBxMBQk0F"
      }
    },
    {
      "cell_type": "code",
      "source": [
        "arr = np.array([1, 2, 3, 4, 5, 6, 7])\n",
        "\n",
        "print(arr[:4])        #print(arr[:-3]) give the same result"
      ],
      "metadata": {
        "colab": {
          "base_uri": "https://localhost:8080/"
        },
        "id": "ngE4sRW3Ph6L",
        "outputId": "19ee1695-cd31-42be-e018-4e38da47d0fa"
      },
      "execution_count": null,
      "outputs": [
        {
          "output_type": "stream",
          "name": "stdout",
          "text": [
            "[1 2 3 4]\n"
          ]
        }
      ]
    },
    {
      "cell_type": "code",
      "source": [
        "arr = np.array([1, 2, 3, 4, 5, 6, 7])\n",
        "\n",
        "print(arr[-3:-1])"
      ],
      "metadata": {
        "colab": {
          "base_uri": "https://localhost:8080/"
        },
        "id": "yF9m_PMjPh-G",
        "outputId": "a71fad3b-2b0b-4600-cae0-df6d3b9cc915"
      },
      "execution_count": null,
      "outputs": [
        {
          "output_type": "stream",
          "name": "stdout",
          "text": [
            "[5 6]\n"
          ]
        }
      ]
    },
    {
      "cell_type": "code",
      "source": [
        "arr = np.array([1, 2, 3, 4, 5, 6, 7])\n",
        "\n",
        "print(arr[1:5:2])           # [start:end:step]."
      ],
      "metadata": {
        "colab": {
          "base_uri": "https://localhost:8080/"
        },
        "id": "XRtjOkoRPiBS",
        "outputId": "c5169389-d626-4778-f456-9661a1246a27"
      },
      "execution_count": null,
      "outputs": [
        {
          "output_type": "stream",
          "name": "stdout",
          "text": [
            "[2 4]\n"
          ]
        }
      ]
    },
    {
      "cell_type": "code",
      "source": [
        "arr = np.array([1, 2, 3, 4, 5, 6, 7])\n",
        "\n",
        "print(arr[::2])"
      ],
      "metadata": {
        "colab": {
          "base_uri": "https://localhost:8080/"
        },
        "id": "2f6tm6yhPiD8",
        "outputId": "a78a4576-4924-43b4-83c9-14730e3eaada"
      },
      "execution_count": null,
      "outputs": [
        {
          "output_type": "stream",
          "name": "stdout",
          "text": [
            "[1 3 5 7]\n"
          ]
        }
      ]
    },
    {
      "cell_type": "code",
      "source": [
        "arr = np.array([[1, 2, 3, 4, 5], [6, 7, 8, 9, 10]])\n",
        "\n",
        "print(arr[1, 1:4])"
      ],
      "metadata": {
        "colab": {
          "base_uri": "https://localhost:8080/"
        },
        "id": "fcIuFtJcPiGa",
        "outputId": "f7d0e6db-abaf-4684-910f-3a49b8b6ec51"
      },
      "execution_count": null,
      "outputs": [
        {
          "output_type": "stream",
          "name": "stdout",
          "text": [
            "[7 8 9]\n"
          ]
        }
      ]
    },
    {
      "cell_type": "code",
      "source": [
        "arr = np.array([[1, 2, 3, 4, 5], [6, 7, 8, 9, 10]])\n",
        "\n",
        "print(arr[0:2, 2])"
      ],
      "metadata": {
        "colab": {
          "base_uri": "https://localhost:8080/"
        },
        "id": "UhDh2fQqPiJL",
        "outputId": "d1ccc3f1-bb7e-4c00-ce96-e6002c98044a"
      },
      "execution_count": null,
      "outputs": [
        {
          "output_type": "stream",
          "name": "stdout",
          "text": [
            "[3 8]\n"
          ]
        }
      ]
    },
    {
      "cell_type": "code",
      "source": [
        "arr = np.array([[1, 2, 3, 4, 5], [6, 7, 8, 9, 10]])\n",
        "\n",
        "print(arr[0:2, 1:4])"
      ],
      "metadata": {
        "colab": {
          "base_uri": "https://localhost:8080/"
        },
        "id": "e0UaL53SPiKx",
        "outputId": "7228351c-8d9f-4959-bc97-c63b193a3f30"
      },
      "execution_count": null,
      "outputs": [
        {
          "output_type": "stream",
          "name": "stdout",
          "text": [
            "[[2 3 4]]\n"
          ]
        }
      ]
    },
    {
      "cell_type": "markdown",
      "source": [
        "**dtype** that allows us to define the expected data type of the array elements:"
      ],
      "metadata": {
        "id": "1PZE2bbOX9FG"
      }
    },
    {
      "cell_type": "code",
      "source": [
        "arr = np.array([1, 2, 3, 4], dtype='S')\n",
        "\n",
        "print(arr)\n",
        "print(arr.dtype)"
      ],
      "metadata": {
        "colab": {
          "base_uri": "https://localhost:8080/"
        },
        "id": "yYUJQKVDPiO7",
        "outputId": "82f1f1ac-01a2-4a15-8951-a810363e61bf"
      },
      "execution_count": null,
      "outputs": [
        {
          "output_type": "stream",
          "name": "stdout",
          "text": [
            "[b'1' b'2' b'3' b'4']\n",
            "|S1\n"
          ]
        }
      ]
    },
    {
      "cell_type": "code",
      "source": [
        "arr = np.array([1, 2, 3, 4], dtype='i4')\n",
        "\n",
        "print(arr)\n",
        "print(arr.dtype)"
      ],
      "metadata": {
        "colab": {
          "base_uri": "https://localhost:8080/"
        },
        "id": "yyYg0K7YPiQ2",
        "outputId": "e4d476bb-7d00-47a4-ac82-78558056a23f"
      },
      "execution_count": null,
      "outputs": [
        {
          "output_type": "stream",
          "name": "stdout",
          "text": [
            "[1 2 3 4]\n",
            "int32\n"
          ]
        }
      ]
    },
    {
      "cell_type": "code",
      "source": [
        "arr = np.array(['a', '2', '3'], dtype='i')"
      ],
      "metadata": {
        "colab": {
          "base_uri": "https://localhost:8080/",
          "height": 166
        },
        "id": "HcLL13MkPiUP",
        "outputId": "ba4eb2a2-636f-430e-f16c-e6149ec5f7f0"
      },
      "execution_count": null,
      "outputs": [
        {
          "output_type": "error",
          "ename": "ValueError",
          "evalue": "ignored",
          "traceback": [
            "\u001b[0;31m---------------------------------------------------------------------------\u001b[0m",
            "\u001b[0;31mValueError\u001b[0m                                Traceback (most recent call last)",
            "\u001b[0;32m<ipython-input-47-4101754d9810>\u001b[0m in \u001b[0;36m<module>\u001b[0;34m()\u001b[0m\n\u001b[0;32m----> 1\u001b[0;31m \u001b[0marr\u001b[0m \u001b[0;34m=\u001b[0m \u001b[0mnp\u001b[0m\u001b[0;34m.\u001b[0m\u001b[0marray\u001b[0m\u001b[0;34m(\u001b[0m\u001b[0;34m[\u001b[0m\u001b[0;34m'a'\u001b[0m\u001b[0;34m,\u001b[0m \u001b[0;34m'2'\u001b[0m\u001b[0;34m,\u001b[0m \u001b[0;34m'3'\u001b[0m\u001b[0;34m]\u001b[0m\u001b[0;34m,\u001b[0m \u001b[0mdtype\u001b[0m\u001b[0;34m=\u001b[0m\u001b[0;34m'i'\u001b[0m\u001b[0;34m)\u001b[0m\u001b[0;34m\u001b[0m\u001b[0;34m\u001b[0m\u001b[0m\n\u001b[0m",
            "\u001b[0;31mValueError\u001b[0m: invalid literal for int() with base 10: 'a'"
          ]
        }
      ]
    },
    {
      "cell_type": "markdown",
      "source": [
        "Change data type from float to integer by using 'i' as parameter value:"
      ],
      "metadata": {
        "id": "BZT2rasNYo_3"
      }
    },
    {
      "cell_type": "code",
      "source": [
        "arr = np.array([1.1, 2.1, 3.1])\n",
        "\n",
        "newarr = arr.astype('i')\n",
        "\n",
        "print(newarr)\n",
        "print(newarr.dtype)"
      ],
      "metadata": {
        "colab": {
          "base_uri": "https://localhost:8080/"
        },
        "id": "FrPcZQ-bPiWL",
        "outputId": "a4243076-5cd2-4188-f043-87ba3bdd2b01"
      },
      "execution_count": null,
      "outputs": [
        {
          "output_type": "stream",
          "name": "stdout",
          "text": [
            "[1 2 3]\n",
            "int32\n"
          ]
        }
      ]
    },
    {
      "cell_type": "markdown",
      "source": [
        "Change data type from float to integer by using int as parameter value:"
      ],
      "metadata": {
        "id": "g4GTj8z3YtaR"
      }
    },
    {
      "cell_type": "code",
      "source": [
        "arr = np.array([1.1, 2.1, 3.1])\n",
        "\n",
        "newarr = arr.astype(int)\n",
        "\n",
        "print(newarr)\n",
        "print(newarr.dtype)"
      ],
      "metadata": {
        "colab": {
          "base_uri": "https://localhost:8080/"
        },
        "id": "Np7EPWkdPiZh",
        "outputId": "221fd7af-09b6-4f30-d3ad-36d1aabf60e8"
      },
      "execution_count": null,
      "outputs": [
        {
          "output_type": "stream",
          "name": "stdout",
          "text": [
            "[1 2 3]\n",
            "int64\n"
          ]
        }
      ]
    },
    {
      "cell_type": "markdown",
      "source": [
        "Change data type from integer to boolean:"
      ],
      "metadata": {
        "id": "T6wXyggzY2g_"
      }
    },
    {
      "cell_type": "code",
      "source": [
        "arr = np.array([1, 0, 3])\n",
        "\n",
        "newarr = arr.astype(bool)\n",
        "\n",
        "print(newarr)\n",
        "print(newarr.dtype)"
      ],
      "metadata": {
        "colab": {
          "base_uri": "https://localhost:8080/"
        },
        "id": "qGMVlUJ3Pibp",
        "outputId": "29a4d3f4-acee-4cd5-fd46-d980869b28f0"
      },
      "execution_count": null,
      "outputs": [
        {
          "output_type": "stream",
          "name": "stdout",
          "text": [
            "[ True False  True]\n",
            "bool\n"
          ]
        }
      ]
    },
    {
      "cell_type": "markdown",
      "source": [
        "**The Difference Between Copy and View**\n",
        "\n",
        "The main difference between a copy and a view of an array is that the copy is a new array, and the view is just a view of the original array.\n",
        "\n",
        "The copy owns the data and any changes made to the copy will not affect original array, and any changes made to the original array will not affect the copy.\n",
        "\n",
        "The view does not own the data and any changes made to the view will affect the original array, and any changes made to the original array will affect the view."
      ],
      "metadata": {
        "id": "u3djkGBdaLHe"
      }
    },
    {
      "cell_type": "markdown",
      "source": [
        "**COPY:**\n",
        "\n",
        "Make a copy, change the original array, and display both arrays:"
      ],
      "metadata": {
        "id": "yPHDZ_7QaSeV"
      }
    },
    {
      "cell_type": "code",
      "source": [
        "arr = np.array([1, 2, 3, 4, 5])\n",
        "x = arr.copy()\n",
        "arr[0] = 42\n",
        "\n",
        "print(arr)\n",
        "print(x)"
      ],
      "metadata": {
        "colab": {
          "base_uri": "https://localhost:8080/"
        },
        "id": "FGHbt1VhPifV",
        "outputId": "5a9f465d-2537-4d77-c3da-c0c140c4ce28"
      },
      "execution_count": null,
      "outputs": [
        {
          "output_type": "stream",
          "name": "stdout",
          "text": [
            "[42  2  3  4  5]\n",
            "[1 2 3 4 5]\n"
          ]
        }
      ]
    },
    {
      "cell_type": "markdown",
      "source": [
        "**VIEW:**\n",
        "\n",
        "Make a view, change the original array, and display both arrays:"
      ],
      "metadata": {
        "id": "7eOBbJzGaf-a"
      }
    },
    {
      "cell_type": "code",
      "source": [
        "arr = np.array([1, 2, 3, 4, 5])\n",
        "x = arr.view()\n",
        "arr[0] = 42\n",
        "\n",
        "print(arr)\n",
        "print(x)"
      ],
      "metadata": {
        "colab": {
          "base_uri": "https://localhost:8080/"
        },
        "id": "WLyCQ5bnPiip",
        "outputId": "c45dc20a-24b8-4113-eb7e-5f9e43bc5d92"
      },
      "execution_count": null,
      "outputs": [
        {
          "output_type": "stream",
          "name": "stdout",
          "text": [
            "[42  2  3  4  5]\n",
            "[42  2  3  4  5]\n"
          ]
        }
      ]
    },
    {
      "cell_type": "markdown",
      "source": [
        "**Check if Array Owns its Data**\n",
        "\n",
        "As mentioned above, copies owns the data, and views does not own the data, but how can we check this?\n",
        "\n",
        "Every NumPy array has the attribute base that returns **None** if the array owns the data.\n",
        "\n",
        "Otherwise, the base  attribute refers to the **original object**."
      ],
      "metadata": {
        "id": "9OxUYOj3a5bb"
      }
    },
    {
      "cell_type": "code",
      "source": [
        "arr = np.array([1, 2, 3, 4, 5])\n",
        "\n",
        "x = arr.copy()\n",
        "y = arr.view()\n",
        "\n",
        "print(x.base)\n",
        "print(y.base)"
      ],
      "metadata": {
        "colab": {
          "base_uri": "https://localhost:8080/"
        },
        "id": "MRdBV64dPilS",
        "outputId": "ffac1438-afc2-40b4-b641-6b42e35d32b4"
      },
      "execution_count": null,
      "outputs": [
        {
          "output_type": "stream",
          "name": "stdout",
          "text": [
            "None\n",
            "[1 2 3 4 5]\n"
          ]
        }
      ]
    },
    {
      "cell_type": "markdown",
      "source": [
        "## **NumPy Array Shape**"
      ],
      "metadata": {
        "id": "ymq0hN5K8GRm"
      }
    },
    {
      "cell_type": "code",
      "source": [
        "arr = np.array([[1, 2, 3, 4], [5, 6, 7, 8]])\n",
        "\n",
        "print(arr.shape)"
      ],
      "metadata": {
        "id": "A20SN_M8PioB",
        "colab": {
          "base_uri": "https://localhost:8080/"
        },
        "outputId": "96ceb214-1ea1-42f2-b1ef-db4645e90649"
      },
      "execution_count": null,
      "outputs": [
        {
          "output_type": "stream",
          "name": "stdout",
          "text": [
            "(2, 4)\n"
          ]
        }
      ]
    },
    {
      "cell_type": "markdown",
      "source": [
        "Create an array with 5 dimensions using **ndmin** using a vector with values 1,2,3,4 and verify that last dimension has value 4:"
      ],
      "metadata": {
        "id": "45Rr6J7T9AeH"
      }
    },
    {
      "cell_type": "code",
      "source": [
        "arr = np.array([1, 2, 3, 4], ndmin=5)\n",
        "\n",
        "print(arr)\n",
        "print('shape of array :', arr.shape)"
      ],
      "metadata": {
        "id": "Rp6Psb1HPirh",
        "colab": {
          "base_uri": "https://localhost:8080/"
        },
        "outputId": "c6872891-927b-4370-9240-08f4fb24b6ed"
      },
      "execution_count": null,
      "outputs": [
        {
          "output_type": "stream",
          "name": "stdout",
          "text": [
            "[[[[[1 2 3 4]]]]]\n",
            "shape of array : (1, 1, 1, 1, 4)\n"
          ]
        }
      ]
    },
    {
      "cell_type": "markdown",
      "source": [
        "## **NumPy Array Reshaping**"
      ],
      "metadata": {
        "id": "OSIZYSux9Ox-"
      }
    },
    {
      "cell_type": "markdown",
      "source": [
        "**We can reshape an 8 elements 1D array into 4 elements in 2 rows 2D array but we cannot reshape it into a 3 elements 3 rows 2D array as that would require 3x3 = 9 elements. That means numbers or array elements should be equal.**"
      ],
      "metadata": {
        "id": "bdxRDAc2-4v-"
      }
    },
    {
      "cell_type": "markdown",
      "source": [
        "Convert the following 1-D array with 12 elements into a 2-D array.\n",
        "\n",
        "The outermost dimension will have 4 arrays, each with 3 elements:"
      ],
      "metadata": {
        "id": "ZmFCFeTq9tCG"
      }
    },
    {
      "cell_type": "code",
      "source": [
        "arr = np.array([1, 2, 3, 4, 5, 6, 7, 8, 9, 10, 11, 12])\n",
        "\n",
        "newarr = arr.reshape(4, 3)          #array.reshape(number of array,number of elements in each array)\n",
        "\n",
        "print(newarr)"
      ],
      "metadata": {
        "id": "u6eTcErtPitX",
        "colab": {
          "base_uri": "https://localhost:8080/"
        },
        "outputId": "ca93ad35-d188-46c6-c164-346c2cda290f"
      },
      "execution_count": null,
      "outputs": [
        {
          "output_type": "stream",
          "name": "stdout",
          "text": [
            "[[ 1  2  3]\n",
            " [ 4  5  6]\n",
            " [ 7  8  9]\n",
            " [10 11 12]]\n"
          ]
        }
      ]
    },
    {
      "cell_type": "markdown",
      "source": [
        "Convert the following 1-D array with 12 elements into a 3-D array.\n",
        "\n",
        "The outermost dimension will have 2 arrays that contains 3 arrays, each with 2 elements:"
      ],
      "metadata": {
        "id": "t4HE_xK6-D5o"
      }
    },
    {
      "cell_type": "code",
      "source": [
        "arr = np.array([1, 2, 3, 4, 5, 6, 7, 8, 9, 10, 11, 12])\n",
        "\n",
        "newarr = arr.reshape(2, 3, 2)         ##array.reshape(number of array,number of dimentions or inner array in each array,number of elements in each array)\n",
        "\n",
        "print(newarr)"
      ],
      "metadata": {
        "id": "o6IfHcqKPixS",
        "colab": {
          "base_uri": "https://localhost:8080/"
        },
        "outputId": "4413f3bd-f2f7-46a4-9e25-a701e2123047"
      },
      "execution_count": null,
      "outputs": [
        {
          "output_type": "stream",
          "name": "stdout",
          "text": [
            "[[[ 1  2]\n",
            "  [ 3  4]\n",
            "  [ 5  6]]\n",
            "\n",
            " [[ 7  8]\n",
            "  [ 9 10]\n",
            "  [11 12]]]\n"
          ]
        }
      ]
    },
    {
      "cell_type": "markdown",
      "source": [
        "Check if the returned array is a copy or a view:"
      ],
      "metadata": {
        "id": "ydmryOK0_lRK"
      }
    },
    {
      "cell_type": "code",
      "source": [
        "arr = np.array([1, 2, 3, 4, 5, 6, 7, 8])\n",
        "\n",
        "print(arr.reshape(2, 4).base)\n",
        "\n",
        "#This is view"
      ],
      "metadata": {
        "id": "f1xUyaBmPizh",
        "colab": {
          "base_uri": "https://localhost:8080/"
        },
        "outputId": "64951652-6e56-468e-8e42-7e06b6afed36"
      },
      "execution_count": null,
      "outputs": [
        {
          "output_type": "stream",
          "name": "stdout",
          "text": [
            "[1 2 3 4 5 6 7 8]\n"
          ]
        }
      ]
    },
    {
      "cell_type": "markdown",
      "source": [
        "You are allowed to have one \"unknown\" dimension.\n",
        "\n",
        "Meaning that you do not have to specify an exact number for one of the dimensions in the reshape method.\n",
        "\n",
        "Pass -1 as the value, and NumPy will calculate this number for you."
      ],
      "metadata": {
        "id": "xD8LPSwjRaAt"
      }
    },
    {
      "cell_type": "code",
      "source": [
        "arr = np.array([1, 2, 3, 4, 5, 6, 7, 8])\n",
        "\n",
        "newarr = arr.reshape(2, 2, -1)\n",
        "\n",
        "print(newarr)\n",
        "\n",
        "#We can not pass -1 to more than one dimension."
      ],
      "metadata": {
        "id": "O4mvY-GtPi3c",
        "colab": {
          "base_uri": "https://localhost:8080/"
        },
        "outputId": "661dd5fc-c703-4949-ebe4-067673e81aee"
      },
      "execution_count": null,
      "outputs": [
        {
          "output_type": "stream",
          "name": "stdout",
          "text": [
            "[[[1 2]\n",
            "  [3 4]]\n",
            "\n",
            " [[5 6]\n",
            "  [7 8]]]\n"
          ]
        }
      ]
    },
    {
      "cell_type": "markdown",
      "source": [
        "Flattening the arrays\n",
        "\n",
        "Flattening array means converting a multidimensional array into a 1D array.\n",
        "\n",
        "We can use reshape(-1) to do this."
      ],
      "metadata": {
        "id": "3YyMfqyUSKTT"
      }
    },
    {
      "cell_type": "code",
      "source": [
        "#Convert the array into a 1D array:\n",
        "\n",
        "arr = np.array([[1, 2, 3], [4, 5, 6]])\n",
        "\n",
        "newarr = arr.reshape(-1)\n",
        "\n",
        "print(newarr)"
      ],
      "metadata": {
        "id": "jH4EvsLFPi5T",
        "colab": {
          "base_uri": "https://localhost:8080/"
        },
        "outputId": "4a7af26b-3379-4e0b-a2c1-a01f222c42c0"
      },
      "execution_count": null,
      "outputs": [
        {
          "output_type": "stream",
          "name": "stdout",
          "text": [
            "[1 2 3 4 5 6]\n"
          ]
        }
      ]
    },
    {
      "cell_type": "markdown",
      "source": [
        "## **NumPy Array Iterating**"
      ],
      "metadata": {
        "id": "mGQFND5TSrP6"
      }
    },
    {
      "cell_type": "markdown",
      "source": [
        "Iterate on the elements of the following **1-D array**:\n"
      ],
      "metadata": {
        "id": "jMngejzBTl-k"
      }
    },
    {
      "cell_type": "code",
      "source": [
        "arr = np.array([1, 2, 3])\n",
        "\n",
        "for x in arr:\n",
        "  print(x)"
      ],
      "metadata": {
        "id": "lkud6a_yPi9M",
        "colab": {
          "base_uri": "https://localhost:8080/"
        },
        "outputId": "e3b9c73b-7593-4a96-c5d0-34c6a466dff9"
      },
      "execution_count": null,
      "outputs": [
        {
          "output_type": "stream",
          "name": "stdout",
          "text": [
            "1\n",
            "2\n",
            "3\n"
          ]
        }
      ]
    },
    {
      "cell_type": "markdown",
      "source": [
        "Iterate on the elements of the following **2-D array:**"
      ],
      "metadata": {
        "id": "JMxvmbkXT0XY"
      }
    },
    {
      "cell_type": "code",
      "source": [
        "arr = np.array([[1, 2, 3], [4, 5, 6]])\n",
        "\n",
        "for x in arr:\n",
        "  print(x)"
      ],
      "metadata": {
        "id": "4id2kn9zPi_o",
        "colab": {
          "base_uri": "https://localhost:8080/"
        },
        "outputId": "47b0142d-474e-47fe-a1e2-1c4fe6a52173"
      },
      "execution_count": null,
      "outputs": [
        {
          "output_type": "stream",
          "name": "stdout",
          "text": [
            "[1 2 3]\n",
            "[4 5 6]\n"
          ]
        }
      ]
    },
    {
      "cell_type": "code",
      "source": [
        "arr = np.array([[1, 2, 3], [4, 5, 6]])\n",
        "\n",
        "for x in arr:\n",
        "  for y in x:\n",
        "    print(y)"
      ],
      "metadata": {
        "id": "Sex3CESgPjDh",
        "colab": {
          "base_uri": "https://localhost:8080/"
        },
        "outputId": "6a1a3059-dd1b-471d-f587-38cc10873e6b"
      },
      "execution_count": null,
      "outputs": [
        {
          "output_type": "stream",
          "name": "stdout",
          "text": [
            "1\n",
            "2\n",
            "3\n",
            "4\n",
            "5\n",
            "6\n"
          ]
        }
      ]
    },
    {
      "cell_type": "markdown",
      "source": [
        "Iterate on the elements of the following **3-D array:**"
      ],
      "metadata": {
        "id": "-tUxAgdOVpmS"
      }
    },
    {
      "cell_type": "code",
      "source": [
        "arr = np.array([[[1, 2, 3], [4, 5, 6]], [[7, 8, 9], [10, 11, 12]]])\n",
        "\n",
        "for x in arr:\n",
        "  print(x)"
      ],
      "metadata": {
        "id": "1_JYp2NGPjFm",
        "colab": {
          "base_uri": "https://localhost:8080/"
        },
        "outputId": "2feece4e-9a45-411f-f043-89ec626beeb5"
      },
      "execution_count": null,
      "outputs": [
        {
          "output_type": "stream",
          "name": "stdout",
          "text": [
            "[[1 2 3]\n",
            " [4 5 6]]\n",
            "[[ 7  8  9]\n",
            " [10 11 12]]\n"
          ]
        }
      ]
    },
    {
      "cell_type": "markdown",
      "source": [
        "Iterate down to the scalars:"
      ],
      "metadata": {
        "id": "19Yh3rWmV4gC"
      }
    },
    {
      "cell_type": "code",
      "source": [
        "arr = np.array([[[1, 2, 3], [4, 5, 6]], [[7, 8, 9], [10, 11, 12]]])\n",
        "\n",
        "for x in arr:\n",
        "  for y in x:\n",
        "    for z in y:\n",
        "      print(z)"
      ],
      "metadata": {
        "id": "OvzlpMTsPjI9",
        "colab": {
          "base_uri": "https://localhost:8080/"
        },
        "outputId": "3eef010b-1796-477f-aa6f-20f8f5e23937"
      },
      "execution_count": null,
      "outputs": [
        {
          "output_type": "stream",
          "name": "stdout",
          "text": [
            "1\n",
            "2\n",
            "3\n",
            "4\n",
            "5\n",
            "6\n",
            "7\n",
            "8\n",
            "9\n",
            "10\n",
            "11\n",
            "12\n"
          ]
        }
      ]
    },
    {
      "cell_type": "markdown",
      "source": [
        "The function **nditer()** is a helping function that can be used from very basic to very advanced iterations. It solves some basic issues which we face in iteration, lets go through it with examples."
      ],
      "metadata": {
        "id": "ekPXxOOpYx_s"
      }
    },
    {
      "cell_type": "code",
      "source": [
        "arr = np.array([[[1, 2], [3, 4]], [[5, 6], [7, 8]]])\n",
        "\n",
        "for x in np.nditer(arr):\n",
        "  print(x)"
      ],
      "metadata": {
        "id": "74itGk0LPjLE",
        "colab": {
          "base_uri": "https://localhost:8080/"
        },
        "outputId": "d53433f3-14dc-4e19-8c59-03bdc1440106"
      },
      "execution_count": null,
      "outputs": [
        {
          "output_type": "stream",
          "name": "stdout",
          "text": [
            "1\n",
            "2\n",
            "3\n",
            "4\n",
            "5\n",
            "6\n",
            "7\n",
            "8\n"
          ]
        }
      ]
    },
    {
      "cell_type": "code",
      "source": [
        "arr = np.array([1, 2, 4])\n",
        "\n",
        "for x in np.nditer(arr, flags=['buffered'], op_dtypes=['S']):\n",
        "  print(x)"
      ],
      "metadata": {
        "id": "JkdojeKHPjPE",
        "colab": {
          "base_uri": "https://localhost:8080/"
        },
        "outputId": "e82b5a9a-b173-4b26-81e8-8202b54ff5f6"
      },
      "execution_count": null,
      "outputs": [
        {
          "output_type": "stream",
          "name": "stdout",
          "text": [
            "b'1'\n",
            "b'2'\n",
            "b'4'\n"
          ]
        }
      ]
    },
    {
      "cell_type": "code",
      "source": [
        "arr = np.array([[1, 2, 3, 4], [5, 6, 7, 8]])\n",
        "\n",
        "for x in np.nditer(arr[:, ::2]):\n",
        "  print(x)"
      ],
      "metadata": {
        "id": "gQvzuE8DPjRS",
        "colab": {
          "base_uri": "https://localhost:8080/"
        },
        "outputId": "673fa1eb-67c4-42f8-c42e-ccf09e6e3786"
      },
      "execution_count": null,
      "outputs": [
        {
          "output_type": "stream",
          "name": "stdout",
          "text": [
            "1\n",
            "3\n",
            "5\n",
            "7\n"
          ]
        }
      ]
    },
    {
      "cell_type": "markdown",
      "source": [
        "Enumerated Iteration Using ndenumerate()\n",
        "\n",
        "Enumeration means mentioning sequence number of somethings one by one.\n",
        "\n",
        "Sometimes we require corresponding index of the element while iterating, the **ndenumerate()** method can be used for those usecases."
      ],
      "metadata": {
        "id": "EBG0k8hocCPv"
      }
    },
    {
      "cell_type": "code",
      "source": [
        "arr = np.array([1, 2, 6])\n",
        "\n",
        "for idx, x in np.ndenumerate(arr):\n",
        "  print(idx, x)"
      ],
      "metadata": {
        "id": "j81VOigmPjVJ",
        "colab": {
          "base_uri": "https://localhost:8080/"
        },
        "outputId": "02125aa4-ce26-4b08-ed06-fc6da71c5bbf"
      },
      "execution_count": null,
      "outputs": [
        {
          "output_type": "stream",
          "name": "stdout",
          "text": [
            "(0,) 1\n",
            "(1,) 2\n",
            "(2,) 6\n"
          ]
        }
      ]
    },
    {
      "cell_type": "markdown",
      "source": [
        "It shows the index value with index position."
      ],
      "metadata": {
        "id": "KNI8qOstcTBf"
      }
    },
    {
      "cell_type": "code",
      "source": [
        "arr = np.array([[1, 2, 3, 4], [5, 6, 7, 8]])\n",
        "\n",
        "for idx, x in np.ndenumerate(arr):\n",
        "  print(idx, x)"
      ],
      "metadata": {
        "id": "-YDBp74xPjXT",
        "colab": {
          "base_uri": "https://localhost:8080/"
        },
        "outputId": "76d7b95a-0c02-4250-b16a-e11ba3c20854"
      },
      "execution_count": null,
      "outputs": [
        {
          "output_type": "stream",
          "name": "stdout",
          "text": [
            "(0, 0) 1\n",
            "(0, 1) 2\n",
            "(0, 2) 3\n",
            "(0, 3) 4\n",
            "(1, 0) 5\n",
            "(1, 1) 6\n",
            "(1, 2) 7\n",
            "(1, 3) 8\n"
          ]
        }
      ]
    },
    {
      "cell_type": "markdown",
      "source": [
        "## **NumPy Joining Array**"
      ],
      "metadata": {
        "id": "D-Ho9wVmcpTh"
      }
    },
    {
      "cell_type": "markdown",
      "source": [
        "Joining means putting contents of two or more arrays in a single array.\n",
        "\n",
        "In SQL we join tables based on a key, whereas in NumPy we join arrays by axes.\n",
        "\n",
        "We pass a sequence of arrays that we want to join to the concatenate() function, along with the axis. If axis is not explicitly passed, it is taken as 0."
      ],
      "metadata": {
        "id": "uhEERpv8cvo8"
      }
    },
    {
      "cell_type": "code",
      "source": [
        "arr1 = np.array([1, 2, 3])\n",
        "\n",
        "arr2 = np.array([4, 5, 6])\n",
        "\n",
        "arr = np.concatenate((arr1, arr2))\n",
        "\n",
        "print(arr)"
      ],
      "metadata": {
        "id": "q43YqM-APjbL",
        "colab": {
          "base_uri": "https://localhost:8080/"
        },
        "outputId": "f2ff870b-a17c-4c87-d5be-6864f5b65560"
      },
      "execution_count": null,
      "outputs": [
        {
          "output_type": "stream",
          "name": "stdout",
          "text": [
            "[1 2 3 4 5 6]\n"
          ]
        }
      ]
    },
    {
      "cell_type": "code",
      "source": [
        "arr1 = np.array([[1, 2], [3, 4]])\n",
        "\n",
        "arr2 = np.array([[5, 6], [7, 8]])\n",
        "\n",
        "arr = np.concatenate((arr1, arr2), axis=1)\n",
        "\n",
        "print(arr)\n",
        "\n",
        "arr1 = np.concatenate((arr[0], arr[1]))\n",
        "\n",
        "print(arr1)"
      ],
      "metadata": {
        "id": "98OTF7wUPjeI",
        "colab": {
          "base_uri": "https://localhost:8080/"
        },
        "outputId": "fa46607f-343e-4fe8-848e-7b3aaf9f1ec1"
      },
      "execution_count": null,
      "outputs": [
        {
          "output_type": "stream",
          "name": "stdout",
          "text": [
            "[[1 2 5 6]\n",
            " [3 4 7 8]]\n",
            "[1 2 5 6 3 4 7 8]\n"
          ]
        }
      ]
    },
    {
      "cell_type": "markdown",
      "source": [
        "Joining Arrays Using Stack Functions\n",
        "\n",
        "Stacking is same as concatenation, the only difference is that stacking is done along a new axis.\n",
        "\n",
        "We can concatenate two 1-D arrays along the second axis which would result in putting them one over the other, ie. stacking.\n",
        "\n",
        "We pass a sequence of arrays that we want to join to the **stack()** method along with the axis. If axis is not explicitly passed it is taken as 0."
      ],
      "metadata": {
        "id": "TZfO4MY0eJWL"
      }
    },
    {
      "cell_type": "code",
      "source": [
        "arr1 = np.array([1, 2, 3])\n",
        "\n",
        "arr2 = np.array([4, 5, 6])\n",
        "\n",
        "arr = np.stack((arr1, arr2), axis=1)\n",
        "\n",
        "print(arr)"
      ],
      "metadata": {
        "id": "jdLRTlcpPjhj",
        "colab": {
          "base_uri": "https://localhost:8080/"
        },
        "outputId": "cc5eb065-cabb-41ae-ed59-c460cf0e645d"
      },
      "execution_count": null,
      "outputs": [
        {
          "output_type": "stream",
          "name": "stdout",
          "text": [
            "[[1 4]\n",
            " [2 5]\n",
            " [3 6]]\n"
          ]
        }
      ]
    },
    {
      "cell_type": "code",
      "source": [
        "arr1 = np.array([1, 2, 3])\n",
        "\n",
        "arr2 = np.array([4, 5, 6])\n",
        "\n",
        "arr = np.hstack((arr1, arr2))\n",
        "\n",
        "print(arr)"
      ],
      "metadata": {
        "id": "A8Gza7u8Pjjb",
        "colab": {
          "base_uri": "https://localhost:8080/"
        },
        "outputId": "c01cb38c-28b4-4c16-9634-ba40bb8b2180"
      },
      "execution_count": null,
      "outputs": [
        {
          "output_type": "stream",
          "name": "stdout",
          "text": [
            "[1 2 3 4 5 6]\n"
          ]
        }
      ]
    },
    {
      "cell_type": "code",
      "source": [
        "arr1 = np.array([1, 2, 3])\n",
        "\n",
        "arr2 = np.array([4, 5, 6])\n",
        "\n",
        "arr = np.vstack((arr1, arr2))\n",
        "\n",
        "print(arr)"
      ],
      "metadata": {
        "id": "IqeJcnGNPjmw",
        "colab": {
          "base_uri": "https://localhost:8080/"
        },
        "outputId": "020be957-5e06-495f-ce60-10e2914ca27e"
      },
      "execution_count": null,
      "outputs": [
        {
          "output_type": "stream",
          "name": "stdout",
          "text": [
            "[[1 2 3]\n",
            " [4 5 6]]\n"
          ]
        }
      ]
    },
    {
      "cell_type": "code",
      "source": [
        "arr1 = np.array([1, 2, 3])\n",
        "\n",
        "arr2 = np.array([4, 5, 6])\n",
        "\n",
        "arr = np.dstack((arr1, arr2))\n",
        "\n",
        "print(arr)"
      ],
      "metadata": {
        "id": "M5JUJUM4Pjoj",
        "colab": {
          "base_uri": "https://localhost:8080/"
        },
        "outputId": "1b326fd8-fbaa-4cd8-cb8c-4663a8f42e10"
      },
      "execution_count": null,
      "outputs": [
        {
          "output_type": "stream",
          "name": "stdout",
          "text": [
            "[[[1 4]\n",
            "  [2 5]\n",
            "  [3 6]]]\n"
          ]
        }
      ]
    },
    {
      "cell_type": "markdown",
      "source": [
        "## **NumPy Splitting Array**"
      ],
      "metadata": {
        "id": "V_hu66TleryL"
      }
    },
    {
      "cell_type": "code",
      "source": [
        "arr = np.array([1, 2, 3, 4, 5, 6, 7])\n",
        "\n",
        "newarr = np.array_split(arr, 3)\n",
        "\n",
        "print(newarr)"
      ],
      "metadata": {
        "id": "A0xKlQZGPjsC",
        "colab": {
          "base_uri": "https://localhost:8080/"
        },
        "outputId": "cd17918a-4c3a-427b-caf6-fd5fc42eb27d"
      },
      "execution_count": null,
      "outputs": [
        {
          "output_type": "stream",
          "name": "stdout",
          "text": [
            "[array([1, 2, 3]), array([4, 5]), array([6, 7])]\n"
          ]
        }
      ]
    },
    {
      "cell_type": "code",
      "source": [
        "arr = np.array([1, 2, 3, 4, 5, 6])\n",
        "\n",
        "newarr = np.array_split(arr, 4)\n",
        "\n",
        "print(newarr)"
      ],
      "metadata": {
        "id": "ot6LgfD8PjuI",
        "colab": {
          "base_uri": "https://localhost:8080/"
        },
        "outputId": "c12645f3-b8fb-465b-aea0-8c2b0dfbf39a"
      },
      "execution_count": null,
      "outputs": [
        {
          "output_type": "stream",
          "name": "stdout",
          "text": [
            "[array([1, 2]), array([3, 4]), array([5]), array([6])]\n"
          ]
        }
      ]
    },
    {
      "cell_type": "code",
      "source": [
        "arr = np.array([[1, 2], [3, 4], [5, 6], [7, 8], [9, 10], [11, 12]])\n",
        "\n",
        "newarr = np.array_split(arr, 4)\n",
        "\n",
        "print(newarr)"
      ],
      "metadata": {
        "id": "xHmYlDbaPjxl",
        "colab": {
          "base_uri": "https://localhost:8080/"
        },
        "outputId": "9610604d-9658-4419-e98c-e406164bcb4e"
      },
      "execution_count": null,
      "outputs": [
        {
          "output_type": "stream",
          "name": "stdout",
          "text": [
            "[array([[1, 2],\n",
            "       [3, 4]]), array([[5, 6],\n",
            "       [7, 8]]), array([[ 9, 10]]), array([[11, 12]])]\n"
          ]
        }
      ]
    },
    {
      "cell_type": "code",
      "source": [
        "arr = np.array([[1, 2, 3], [4, 5, 6], [7, 8, 9], [10, 11, 12], [13, 14, 15], [16, 17, 18]])\n",
        "\n",
        "newarr = np.array_split(arr, 3)\n",
        "\n",
        "print(newarr)"
      ],
      "metadata": {
        "id": "WsUs-0jTPjzw",
        "colab": {
          "base_uri": "https://localhost:8080/"
        },
        "outputId": "f576fa03-3cdc-4a4b-98bd-fe1a5e313f07"
      },
      "execution_count": null,
      "outputs": [
        {
          "output_type": "stream",
          "name": "stdout",
          "text": [
            "[array([[1, 2, 3],\n",
            "       [4, 5, 6]]), array([[ 7,  8,  9],\n",
            "       [10, 11, 12]]), array([[13, 14, 15],\n",
            "       [16, 17, 18]])]\n"
          ]
        }
      ]
    },
    {
      "cell_type": "code",
      "source": [
        "arr = np.array([[1, 2, 3], [4, 5, 6], [7, 8, 9], [10, 11, 12], [13, 14, 15], [16, 17, 18]])\n",
        "\n",
        "newarr = np.array_split(arr, 3, axis=1)\n",
        "\n",
        "print(newarr)"
      ],
      "metadata": {
        "id": "3N5KJEcfPj3U",
        "colab": {
          "base_uri": "https://localhost:8080/"
        },
        "outputId": "a551e182-98f8-4d73-9910-64155d533967"
      },
      "execution_count": null,
      "outputs": [
        {
          "output_type": "stream",
          "name": "stdout",
          "text": [
            "[array([[ 1],\n",
            "       [ 4],\n",
            "       [ 7],\n",
            "       [10],\n",
            "       [13],\n",
            "       [16]]), array([[ 2],\n",
            "       [ 5],\n",
            "       [ 8],\n",
            "       [11],\n",
            "       [14],\n",
            "       [17]]), array([[ 3],\n",
            "       [ 6],\n",
            "       [ 9],\n",
            "       [12],\n",
            "       [15],\n",
            "       [18]])]\n"
          ]
        }
      ]
    },
    {
      "cell_type": "code",
      "source": [
        "arr = np.array([[1, 2, 3], [4, 5, 6], [7, 8, 9], [10, 11, 12], [13, 14, 15], [16, 17, 18]])\n",
        "\n",
        "newarr = np.hsplit(arr, 3)\n",
        "\n",
        "print(newarr)"
      ],
      "metadata": {
        "id": "y_a9l1jpCvaN",
        "colab": {
          "base_uri": "https://localhost:8080/"
        },
        "outputId": "4693b305-824e-4189-c4ec-4995ab975ef8"
      },
      "execution_count": null,
      "outputs": [
        {
          "output_type": "stream",
          "name": "stdout",
          "text": [
            "[array([[ 1],\n",
            "       [ 4],\n",
            "       [ 7],\n",
            "       [10],\n",
            "       [13],\n",
            "       [16]]), array([[ 2],\n",
            "       [ 5],\n",
            "       [ 8],\n",
            "       [11],\n",
            "       [14],\n",
            "       [17]]), array([[ 3],\n",
            "       [ 6],\n",
            "       [ 9],\n",
            "       [12],\n",
            "       [15],\n",
            "       [18]])]\n"
          ]
        }
      ]
    },
    {
      "cell_type": "markdown",
      "source": [
        "## **Searching Arrays**"
      ],
      "metadata": {
        "id": "xPJM60DXOo0L"
      }
    },
    {
      "cell_type": "code",
      "source": [
        "import numpy as np\n",
        "\n",
        "arr = np.array([1, 2, 3, 4, 5, 4, 4])\n",
        "\n",
        "x = np.where(arr == 4)\n",
        "\n",
        "print(x)\n",
        "\n",
        "#The result means that the value 4 is present at index 3, 5, and 6."
      ],
      "metadata": {
        "colab": {
          "base_uri": "https://localhost:8080/"
        },
        "id": "RpZ1EdIWOkiZ",
        "outputId": "4fa1e60a-a9ee-4941-f7b5-39c181ae0712"
      },
      "execution_count": 1,
      "outputs": [
        {
          "output_type": "stream",
          "name": "stdout",
          "text": [
            "(array([3, 5, 6]),)\n"
          ]
        }
      ]
    },
    {
      "cell_type": "markdown",
      "source": [
        "Find the indexes where the values are even:"
      ],
      "metadata": {
        "id": "hC_bF5TfPC4k"
      }
    },
    {
      "cell_type": "code",
      "source": [
        "arr = np.array([1, 2, 3, 4, 5, 6, 7, 8])\n",
        "\n",
        "x = np.where(arr%2 == 0)\n",
        "\n",
        "print(x)"
      ],
      "metadata": {
        "colab": {
          "base_uri": "https://localhost:8080/"
        },
        "id": "G-j-Xao4OklJ",
        "outputId": "9e5d24c2-79aa-474d-d92a-270d558c342a"
      },
      "execution_count": 2,
      "outputs": [
        {
          "output_type": "stream",
          "name": "stdout",
          "text": [
            "(array([1, 3, 5, 7]),)\n"
          ]
        }
      ]
    },
    {
      "cell_type": "markdown",
      "source": [
        "Search Sorted\n",
        "\n",
        "There is a method called **searchsorted()** which performs a binary search in the array, and returns the index where the specified value would be inserted to maintain the search order.\n",
        "\n",
        "The **searchsorted()** method is assumed to be used on sorted arrays."
      ],
      "metadata": {
        "id": "BNjY0lB9PMcM"
      }
    },
    {
      "cell_type": "code",
      "source": [
        "arr = np.array([6, 7, 8, 9])\n",
        "\n",
        "x = np.searchsorted(arr, 7)\n",
        "\n",
        "print(x)"
      ],
      "metadata": {
        "colab": {
          "base_uri": "https://localhost:8080/"
        },
        "id": "1BeHkoJEOkoS",
        "outputId": "af467323-2562-45b0-9290-e6f83532452e"
      },
      "execution_count": 3,
      "outputs": [
        {
          "output_type": "stream",
          "name": "stdout",
          "text": [
            "1\n"
          ]
        }
      ]
    },
    {
      "cell_type": "markdown",
      "source": [
        "It starts counting from right side."
      ],
      "metadata": {
        "id": "8AlHT6ydPhVS"
      }
    },
    {
      "cell_type": "code",
      "source": [
        "arr = np.array([6, 7, 8, 9])\n",
        "\n",
        "x = np.searchsorted(arr, 7, side='right')\n",
        "\n",
        "print(x)"
      ],
      "metadata": {
        "colab": {
          "base_uri": "https://localhost:8080/"
        },
        "id": "-oMg6xUEOkrj",
        "outputId": "c304dc48-dc63-4e20-9f9c-a222b83c2363"
      },
      "execution_count": 4,
      "outputs": [
        {
          "output_type": "stream",
          "name": "stdout",
          "text": [
            "2\n"
          ]
        }
      ]
    },
    {
      "cell_type": "code",
      "source": [
        "arr = np.array([1, 3, 5, 7])\n",
        "\n",
        "x = np.searchsorted(arr, [2, 4, 6])\n",
        "\n",
        "print(x)"
      ],
      "metadata": {
        "colab": {
          "base_uri": "https://localhost:8080/"
        },
        "id": "YKs_a9KSOkur",
        "outputId": "26d379ab-78e5-4b7a-b36d-bb49b8d35a3f"
      },
      "execution_count": 7,
      "outputs": [
        {
          "output_type": "stream",
          "name": "stdout",
          "text": [
            "[1 2 3]\n"
          ]
        }
      ]
    },
    {
      "cell_type": "markdown",
      "source": [
        "## **Sorting Arrays**"
      ],
      "metadata": {
        "id": "GzYxXxHRQKE_"
      }
    },
    {
      "cell_type": "markdown",
      "source": [
        "Sorting means putting elements in an ordered sequence.\n",
        "\n",
        "Ordered sequence is any sequence that has an order corresponding to elements, like numeric or alphabetical, ascending or descending.\n",
        "\n",
        "The NumPy ndarray object has a function called sort(), that will sort a specified array."
      ],
      "metadata": {
        "id": "RJyENH_1QGn6"
      }
    },
    {
      "cell_type": "code",
      "source": [
        "arr = np.array([5, 2, 0, 1, 4])\n",
        "\n",
        "result = np.sort(arr)\n",
        "print(result)"
      ],
      "metadata": {
        "colab": {
          "base_uri": "https://localhost:8080/"
        },
        "id": "um93CGEeOkxP",
        "outputId": "58a9e50c-f6b8-4b39-d550-72688e10265a"
      },
      "execution_count": 8,
      "outputs": [
        {
          "output_type": "stream",
          "name": "stdout",
          "text": [
            "[0 1 2 4 5]\n"
          ]
        }
      ]
    },
    {
      "cell_type": "code",
      "source": [
        "arr = np.array(['banana', 'cherry', 'apple'])\n",
        "\n",
        "print(np.sort(arr))"
      ],
      "metadata": {
        "colab": {
          "base_uri": "https://localhost:8080/"
        },
        "id": "mpMLQsMWOk0Y",
        "outputId": "e9d09641-5f40-4490-c296-0a4cf4c18402"
      },
      "execution_count": 9,
      "outputs": [
        {
          "output_type": "stream",
          "name": "stdout",
          "text": [
            "['apple' 'banana' 'cherry']\n"
          ]
        }
      ]
    },
    {
      "cell_type": "code",
      "source": [
        "arr = np.array([True, False, True])\n",
        "\n",
        "print(np.sort(arr))"
      ],
      "metadata": {
        "colab": {
          "base_uri": "https://localhost:8080/"
        },
        "id": "8EVLA114Ok2r",
        "outputId": "bb0039d3-5d81-4b66-ed0a-b4f483e6c29c"
      },
      "execution_count": 10,
      "outputs": [
        {
          "output_type": "stream",
          "name": "stdout",
          "text": [
            "[False  True  True]\n"
          ]
        }
      ]
    },
    {
      "cell_type": "code",
      "source": [
        "arr = np.array([[3, 2, 4], [5, 0, 1]])\n",
        "\n",
        "print(np.sort(arr))"
      ],
      "metadata": {
        "colab": {
          "base_uri": "https://localhost:8080/"
        },
        "id": "52o_plK2Ok6e",
        "outputId": "8b4eca6d-6077-4241-ec4b-94af79d397fe"
      },
      "execution_count": 11,
      "outputs": [
        {
          "output_type": "stream",
          "name": "stdout",
          "text": [
            "[[2 3 4]\n",
            " [0 1 5]]\n"
          ]
        }
      ]
    },
    {
      "cell_type": "markdown",
      "source": [
        "## **NumPy Filter Array**"
      ],
      "metadata": {
        "id": "BfcPF6JtQzhk"
      }
    },
    {
      "cell_type": "code",
      "source": [
        "arr = np.array([41, 42, 43, 44])\n",
        "\n",
        "x = [True, False, True, False]\n",
        "\n",
        "newarr = arr[x]\n",
        "\n",
        "print(newarr)"
      ],
      "metadata": {
        "colab": {
          "base_uri": "https://localhost:8080/"
        },
        "id": "9_lVIVaqOk8y",
        "outputId": "b5346173-9810-4e16-a292-43930440324e"
      },
      "execution_count": 12,
      "outputs": [
        {
          "output_type": "stream",
          "name": "stdout",
          "text": [
            "[41 43]\n"
          ]
        }
      ]
    },
    {
      "cell_type": "markdown",
      "source": [
        "Create a filter array that will return only values higher than 42:"
      ],
      "metadata": {
        "id": "O-azv5xnRanT"
      }
    },
    {
      "cell_type": "code",
      "source": [
        "arr = np.array([41, 42, 43, 44])\n",
        "\n",
        "# Create an empty list\n",
        "filter_arr = []\n",
        "\n",
        "# go through each element in arr\n",
        "for element in arr:\n",
        "  # if the element is higher than 42, set the value to True, otherwise False:\n",
        "  if element > 42:\n",
        "    filter_arr.append(True)\n",
        "  else:\n",
        "    filter_arr.append(False)\n",
        "\n",
        "newarr = arr[filter_arr]\n",
        "\n",
        "print(filter_arr)\n",
        "print(newarr)"
      ],
      "metadata": {
        "colab": {
          "base_uri": "https://localhost:8080/"
        },
        "id": "c8VE2d6FOlAe",
        "outputId": "5e716f65-7461-4a70-faf9-5dab66780f9e"
      },
      "execution_count": 13,
      "outputs": [
        {
          "output_type": "stream",
          "name": "stdout",
          "text": [
            "[False, False, True, True]\n",
            "[43 44]\n"
          ]
        }
      ]
    },
    {
      "cell_type": "markdown",
      "source": [
        "Create a filter array that will return only even elements from the original array:"
      ],
      "metadata": {
        "id": "3Iq9shCURkI9"
      }
    },
    {
      "cell_type": "code",
      "source": [
        "arr = np.array([1, 2, 3, 4, 5, 6, 7])\n",
        "\n",
        "# Create an empty list\n",
        "filter_arr = []\n",
        "\n",
        "# go through each element in arr\n",
        "for element in arr:\n",
        "  # if the element is completely divisble by 2, set the value to True, otherwise False\n",
        "  if element % 2 == 0:\n",
        "    filter_arr.append(True)\n",
        "  else:\n",
        "    filter_arr.append(False)\n",
        "\n",
        "newarr = arr[filter_arr]\n",
        "\n",
        "print(filter_arr)\n",
        "print(newarr)"
      ],
      "metadata": {
        "colab": {
          "base_uri": "https://localhost:8080/"
        },
        "id": "7BddUx7ZOlDj",
        "outputId": "22cab162-936f-462f-ef48-e615ead82d13"
      },
      "execution_count": 14,
      "outputs": [
        {
          "output_type": "stream",
          "name": "stdout",
          "text": [
            "[False, True, False, True, False, True, False]\n",
            "[2 4 6]\n"
          ]
        }
      ]
    },
    {
      "cell_type": "markdown",
      "source": [
        "Create a filter array that will return only values higher than 42:"
      ],
      "metadata": {
        "id": "Pk8rui5rR3FY"
      }
    },
    {
      "cell_type": "code",
      "source": [
        "arr = np.array([41, 42, 43, 44])\n",
        "\n",
        "filter_arr = arr > 42\n",
        "\n",
        "newarr = arr[filter_arr]\n",
        "\n",
        "print(filter_arr)\n",
        "print(newarr)"
      ],
      "metadata": {
        "colab": {
          "base_uri": "https://localhost:8080/"
        },
        "id": "g4cmAYJGOlGv",
        "outputId": "bcef06f7-c052-4dda-de18-92e4cfd95425"
      },
      "execution_count": 15,
      "outputs": [
        {
          "output_type": "stream",
          "name": "stdout",
          "text": [
            "[False False  True  True]\n",
            "[43 44]\n"
          ]
        }
      ]
    },
    {
      "cell_type": "markdown",
      "source": [
        "Create a filter array that will return only even elements from the original array:"
      ],
      "metadata": {
        "id": "sG08mHt7SB6i"
      }
    },
    {
      "cell_type": "code",
      "source": [
        "arr = np.array([1, 2, 3, 4, 5, 6, 7])\n",
        "\n",
        "filter_arr = arr % 2 == 0\n",
        "\n",
        "newarr = arr[filter_arr]\n",
        "\n",
        "print(filter_arr)\n",
        "print(newarr)"
      ],
      "metadata": {
        "colab": {
          "base_uri": "https://localhost:8080/"
        },
        "id": "KI5St8n0OlJC",
        "outputId": "af876609-0912-44fd-ec5a-f06f4ffe157a"
      },
      "execution_count": 16,
      "outputs": [
        {
          "output_type": "stream",
          "name": "stdout",
          "text": [
            "[False  True False  True False  True False]\n",
            "[2 4 6]\n"
          ]
        }
      ]
    },
    {
      "cell_type": "markdown",
      "source": [
        "## **Random Numbers in NumPy**"
      ],
      "metadata": {
        "id": "VCJz6gEzSgvH"
      }
    },
    {
      "cell_type": "markdown",
      "source": [
        "Generate Random Number\n",
        "\n",
        "NumPy offers the **random** module to work with random numbers. It generates a random number everytime."
      ],
      "metadata": {
        "id": "YHMnawX0Sl7l"
      }
    },
    {
      "cell_type": "code",
      "source": [
        "from numpy import random\n",
        "\n",
        "x = random.randint(100)\n",
        "\n",
        "print(x)"
      ],
      "metadata": {
        "colab": {
          "base_uri": "https://localhost:8080/"
        },
        "id": "-ISfNQtfOlNV",
        "outputId": "39619b97-2845-440b-db94-f1c4c039fe9c"
      },
      "execution_count": 19,
      "outputs": [
        {
          "output_type": "stream",
          "name": "stdout",
          "text": [
            "32\n"
          ]
        }
      ]
    },
    {
      "cell_type": "markdown",
      "source": [
        "**Generate Random Float**\n",
        "\n",
        "The random module's **rand()** method returns a random float between 0 and 1."
      ],
      "metadata": {
        "id": "r7RTNQ4VS7Yn"
      }
    },
    {
      "cell_type": "code",
      "source": [
        "from numpy import random\n",
        "\n",
        "x = random.rand()\n",
        "\n",
        "print(x)"
      ],
      "metadata": {
        "colab": {
          "base_uri": "https://localhost:8080/"
        },
        "id": "JabIjZJnOlPk",
        "outputId": "dbbf6ac3-683d-41a4-ff3a-98ffc65c9293"
      },
      "execution_count": 21,
      "outputs": [
        {
          "output_type": "stream",
          "name": "stdout",
          "text": [
            "0.7439536351945061\n"
          ]
        }
      ]
    },
    {
      "cell_type": "markdown",
      "source": [
        "Generate Random Array\n",
        "\n",
        "In NumPy we work with arrays, and you can use the two methods from the above examples to make random arrays.\n",
        "\n",
        "Integers\n",
        "\n",
        "The **randint()** method takes a size parameter where you can specify the shape of an array."
      ],
      "metadata": {
        "id": "vWIPjmEuTHee"
      }
    },
    {
      "cell_type": "code",
      "source": [
        "#Generate a 1-D array containing 5 random integers from 0 to 100:\n",
        "\n",
        "from numpy import random\n",
        "\n",
        "x=random.randint(100, size=(5))\n",
        "\n",
        "print(x)"
      ],
      "metadata": {
        "colab": {
          "base_uri": "https://localhost:8080/"
        },
        "id": "qUf0vys5OlTg",
        "outputId": "dbf2175c-d13c-428e-cf1c-1089583e94d0"
      },
      "execution_count": 24,
      "outputs": [
        {
          "output_type": "stream",
          "name": "stdout",
          "text": [
            "[41 78 22 72 94]\n"
          ]
        }
      ]
    },
    {
      "cell_type": "markdown",
      "source": [
        "Generate a 2-D array with 3 rows, each row containing 5 random integers from 0 to 100:"
      ],
      "metadata": {
        "id": "ndYAI3okTV-q"
      }
    },
    {
      "cell_type": "code",
      "source": [
        "from numpy import random\n",
        "\n",
        "x = random.randint(100, size=(3, 5))      #size= = (number of array, size of each array)\n",
        "\n",
        "print(x)"
      ],
      "metadata": {
        "colab": {
          "base_uri": "https://localhost:8080/"
        },
        "id": "0wZ_0AAdOlWF",
        "outputId": "1391812e-124e-4b11-eddd-9a52b4668596"
      },
      "execution_count": 25,
      "outputs": [
        {
          "output_type": "stream",
          "name": "stdout",
          "text": [
            "[[64 72 93 36 97]\n",
            " [61 39 46 52 78]\n",
            " [59 27 23  6 24]]\n"
          ]
        }
      ]
    },
    {
      "cell_type": "markdown",
      "source": [
        "**Floats**\n",
        "\n",
        "The **rand()** method also allows you to specify the shape of the array."
      ],
      "metadata": {
        "id": "lGYDqGFzTq8b"
      }
    },
    {
      "cell_type": "code",
      "source": [
        "from numpy import random\n",
        "\n",
        "x = random.rand(5)\n",
        "\n",
        "print(x)"
      ],
      "metadata": {
        "colab": {
          "base_uri": "https://localhost:8080/"
        },
        "id": "qp-hBWkOOlZo",
        "outputId": "8ae4b32b-d74e-47db-a69d-cb205df1ed5e"
      },
      "execution_count": 26,
      "outputs": [
        {
          "output_type": "stream",
          "name": "stdout",
          "text": [
            "[0.1521493  0.5838861  0.97480201 0.45472931 0.12207584]\n"
          ]
        }
      ]
    },
    {
      "cell_type": "code",
      "source": [
        "from numpy import random\n",
        "\n",
        "x = random.rand(3, 5)\n",
        "\n",
        "print(x)"
      ],
      "metadata": {
        "colab": {
          "base_uri": "https://localhost:8080/"
        },
        "id": "5IJoV3uMOlda",
        "outputId": "fb7f3c6a-6218-4b2f-d34e-4b2c2f0652c5"
      },
      "execution_count": 27,
      "outputs": [
        {
          "output_type": "stream",
          "name": "stdout",
          "text": [
            "[[0.84833449 0.90383751 0.84210403 0.53613033 0.69580975]\n",
            " [0.85337209 0.64385452 0.80122523 0.70990328 0.06104803]\n",
            " [0.99643148 0.38107381 0.10311411 0.94226021 0.20891543]]\n"
          ]
        }
      ]
    },
    {
      "cell_type": "markdown",
      "source": [
        "Generate Random Number From Array\n",
        "\n",
        "The **choice()** method allows you to generate a random value based on an array of values.\n",
        "\n",
        "The **choice()** method takes an array as a parameter and randomly returns one of the values."
      ],
      "metadata": {
        "id": "GD0f9QoPT9TE"
      }
    },
    {
      "cell_type": "code",
      "source": [
        "from numpy import random\n",
        "\n",
        "x = random.choice([3, 5, 7, 9])\n",
        "\n",
        "print(x)"
      ],
      "metadata": {
        "colab": {
          "base_uri": "https://localhost:8080/"
        },
        "id": "R7Xa_tLuOlgN",
        "outputId": "32996191-a92e-4176-ff8c-479b7e0491de"
      },
      "execution_count": 28,
      "outputs": [
        {
          "output_type": "stream",
          "name": "stdout",
          "text": [
            "9\n"
          ]
        }
      ]
    },
    {
      "cell_type": "markdown",
      "source": [
        "Generate a 2-D array that consists of the values in the array parameter (3, 5, 7, and 9):"
      ],
      "metadata": {
        "id": "33oRkfwgUReV"
      }
    },
    {
      "cell_type": "code",
      "source": [
        "from numpy import random\n",
        "\n",
        "x = random.choice([3, 5, 7, 9], size=(3, 5))\n",
        "\n",
        "print(x)"
      ],
      "metadata": {
        "colab": {
          "base_uri": "https://localhost:8080/"
        },
        "id": "vjoNmD4POlic",
        "outputId": "01b0f68e-307c-4c44-d528-84ccebf4000a"
      },
      "execution_count": 29,
      "outputs": [
        {
          "output_type": "stream",
          "name": "stdout",
          "text": [
            "[[7 9 9 5 9]\n",
            " [5 5 9 5 3]\n",
            " [9 9 5 7 9]]\n"
          ]
        }
      ]
    },
    {
      "cell_type": "markdown",
      "source": [
        "## **Random Data Distribution**"
      ],
      "metadata": {
        "id": "C5VVYl4SYHdo"
      }
    },
    {
      "cell_type": "markdown",
      "source": [
        "What is Data Distribution?\n",
        "\n",
        "Data Distribution is a list of all possible values, and how often each value occurs.\n",
        "\n",
        "Such lists are important when working with statistics and data science.\n",
        "\n",
        "The random module offer methods that returns randomly generated data distributions.\n",
        "\n",
        "\n",
        "We can generate random numbers based on defined probabilities using the **choice()** method of the random module.\n",
        "\n",
        "The **choice()** method allows us to specify the probability for each value.\n",
        "\n",
        "The probability is set by a number between 0 and 1, where 0 means that the value will never occur and 1 means that the value will always occur.\n",
        "\n"
      ],
      "metadata": {
        "id": "7-yFDluDYMNg"
      }
    },
    {
      "cell_type": "markdown",
      "source": [
        "Generate a 1-D array containing 100 values, where each value has to be 3, 5, 7 or 9.\n",
        "\n",
        "The probability for the value to be 3 is set to be 0.1\n",
        "\n",
        "The probability for the value to be 5 is set to be 0.3\n",
        "\n",
        "The probability for the value to be 7 is set to be 0.6\n",
        "\n",
        "The probability for the value to be 9 is set to be 0"
      ],
      "metadata": {
        "id": "OGGko3oxYa5X"
      }
    },
    {
      "cell_type": "code",
      "source": [
        "from numpy import random\n",
        "\n",
        "x = random.choice([3, 5, 7, 9], p=[0.1, 0.3, 0.6, 0.0], size=(100))\n",
        "\n",
        "print(x)\n"
      ],
      "metadata": {
        "colab": {
          "base_uri": "https://localhost:8080/"
        },
        "id": "9aY6GBw7OllX",
        "outputId": "c8ea04c3-13b1-4fcf-f7e9-30a74a6dc805"
      },
      "execution_count": 30,
      "outputs": [
        {
          "output_type": "stream",
          "name": "stdout",
          "text": [
            "[5 7 7 5 7 7 5 7 7 7 7 5 7 7 7 7 7 3 7 7 5 7 7 7 5 5 5 5 7 7 7 5 7 7 7 7 7\n",
            " 7 5 7 7 7 5 3 3 7 7 7 5 7 7 7 7 7 5 7 7 7 7 7 7 7 3 7 5 7 7 7 3 7 5 5 3 7\n",
            " 7 7 5 7 7 7 5 5 5 5 7 3 3 7 7 5 7 7 5 7 7 7 7 7 5 5]\n"
          ]
        }
      ]
    },
    {
      "cell_type": "markdown",
      "source": [
        "Same example as above, but return a 2-D array with 3 rows, each containing 5 values."
      ],
      "metadata": {
        "id": "lJr9MPdUYxre"
      }
    },
    {
      "cell_type": "code",
      "source": [
        "from numpy import random\n",
        "\n",
        "x = random.choice([3, 5, 7, 9], p=[0.1, 0.3, 0.6, 0.0], size=(3, 5))\n",
        "\n",
        "print(x)"
      ],
      "metadata": {
        "colab": {
          "base_uri": "https://localhost:8080/"
        },
        "id": "RfwdN1s4Olne",
        "outputId": "06757e18-92ec-4c59-a896-262465893c42"
      },
      "execution_count": 33,
      "outputs": [
        {
          "output_type": "stream",
          "name": "stdout",
          "text": [
            "[[7 5 7 7 5]\n",
            " [5 5 7 5 7]\n",
            " [7 7 5 5 7]]\n"
          ]
        }
      ]
    },
    {
      "cell_type": "markdown",
      "source": [
        "## **Random Permutations**"
      ],
      "metadata": {
        "id": "VGLFa4IxZAJN"
      }
    },
    {
      "cell_type": "markdown",
      "source": [
        "A permutation refers to an arrangement of elements. e.g. [3, 2, 1] is a permutation of [1, 2, 3] and vice-versa.\n",
        "\n",
        "The NumPy Random module provides two methods for this: **shuffle()** and **permutation()**."
      ],
      "metadata": {
        "id": "WU-VZn5XZQLR"
      }
    },
    {
      "cell_type": "markdown",
      "source": [
        "Shuffling Arrays\n",
        "\n",
        "Shuffle means changing arrangement of elements in-place. i.e. in the array itself."
      ],
      "metadata": {
        "id": "m77hdboaZZad"
      }
    },
    {
      "cell_type": "code",
      "source": [
        "from numpy import random\n",
        "import numpy as np\n",
        "\n",
        "arr = np.array([1, 2, 3, 4, 5])\n",
        "\n",
        "random.shuffle(arr)\n",
        "\n",
        "print(arr)\n",
        "\n",
        "#The shuffle() method makes changes to the original array."
      ],
      "metadata": {
        "colab": {
          "base_uri": "https://localhost:8080/"
        },
        "id": "PQy4dZFTOlrJ",
        "outputId": "b5e22894-e309-4bd6-ac82-1f98e0ada778"
      },
      "execution_count": 37,
      "outputs": [
        {
          "output_type": "stream",
          "name": "stdout",
          "text": [
            "[5 4 1 3 2]\n"
          ]
        }
      ]
    },
    {
      "cell_type": "markdown",
      "source": [
        "Generating Permutation of Arrays"
      ],
      "metadata": {
        "id": "W5TErH99ZnOz"
      }
    },
    {
      "cell_type": "code",
      "source": [
        "from numpy import random\n",
        "import numpy as np\n",
        "\n",
        "arr = np.array([1, 2, 3, 4, 5])\n",
        "\n",
        "print(random.permutation(arr))\n",
        "\n",
        "#The permutation() method returns a re-arranged array (and leaves the original array un-changed)."
      ],
      "metadata": {
        "colab": {
          "base_uri": "https://localhost:8080/"
        },
        "id": "_Hfl9L58OltG",
        "outputId": "88edee90-6692-4fb4-d5ff-d4bcf519124a"
      },
      "execution_count": 39,
      "outputs": [
        {
          "output_type": "stream",
          "name": "stdout",
          "text": [
            "[1 4 3 5 2]\n"
          ]
        }
      ]
    },
    {
      "cell_type": "markdown",
      "source": [
        "## **Seaborn**"
      ],
      "metadata": {
        "id": "B0OYIo6saL-r"
      }
    },
    {
      "cell_type": "code",
      "source": [
        "!pip install seaborn"
      ],
      "metadata": {
        "colab": {
          "base_uri": "https://localhost:8080/"
        },
        "id": "4XlQiDj-Olxb",
        "outputId": "f362b16d-9715-41c4-ca91-404f5fe57be7"
      },
      "execution_count": 40,
      "outputs": [
        {
          "output_type": "stream",
          "name": "stdout",
          "text": [
            "Requirement already satisfied: seaborn in /usr/local/lib/python3.7/dist-packages (0.11.2)\n",
            "Requirement already satisfied: pandas>=0.23 in /usr/local/lib/python3.7/dist-packages (from seaborn) (1.3.5)\n",
            "Requirement already satisfied: matplotlib>=2.2 in /usr/local/lib/python3.7/dist-packages (from seaborn) (3.2.2)\n",
            "Requirement already satisfied: numpy>=1.15 in /usr/local/lib/python3.7/dist-packages (from seaborn) (1.21.5)\n",
            "Requirement already satisfied: scipy>=1.0 in /usr/local/lib/python3.7/dist-packages (from seaborn) (1.4.1)\n",
            "Requirement already satisfied: cycler>=0.10 in /usr/local/lib/python3.7/dist-packages (from matplotlib>=2.2->seaborn) (0.11.0)\n",
            "Requirement already satisfied: pyparsing!=2.0.4,!=2.1.2,!=2.1.6,>=2.0.1 in /usr/local/lib/python3.7/dist-packages (from matplotlib>=2.2->seaborn) (3.0.7)\n",
            "Requirement already satisfied: python-dateutil>=2.1 in /usr/local/lib/python3.7/dist-packages (from matplotlib>=2.2->seaborn) (2.8.2)\n",
            "Requirement already satisfied: kiwisolver>=1.0.1 in /usr/local/lib/python3.7/dist-packages (from matplotlib>=2.2->seaborn) (1.4.0)\n",
            "Requirement already satisfied: typing-extensions in /usr/local/lib/python3.7/dist-packages (from kiwisolver>=1.0.1->matplotlib>=2.2->seaborn) (3.10.0.2)\n",
            "Requirement already satisfied: pytz>=2017.3 in /usr/local/lib/python3.7/dist-packages (from pandas>=0.23->seaborn) (2018.9)\n",
            "Requirement already satisfied: six>=1.5 in /usr/local/lib/python3.7/dist-packages (from python-dateutil>=2.1->matplotlib>=2.2->seaborn) (1.15.0)\n"
          ]
        }
      ]
    },
    {
      "cell_type": "markdown",
      "source": [
        "**Distplots**\n",
        "\n",
        "Distplot stands for distribution plot, it takes as input an array and plots a curve corresponding to the distribution of points in the array."
      ],
      "metadata": {
        "id": "tJ1ICy1oaeFs"
      }
    },
    {
      "cell_type": "code",
      "source": [
        "import matplotlib.pyplot as plt\n",
        "import seaborn as sns\n",
        "\n",
        "sns.distplot([0, 1, 2, 3, 4, 5])\n",
        "\n",
        "plt.show()"
      ],
      "metadata": {
        "colab": {
          "base_uri": "https://localhost:8080/",
          "height": 320
        },
        "id": "r_KQg7KCOlzq",
        "outputId": "2a0c0d68-f52c-4f99-96b9-952989086e75"
      },
      "execution_count": 46,
      "outputs": [
        {
          "output_type": "stream",
          "name": "stderr",
          "text": [
            "/usr/local/lib/python3.7/dist-packages/seaborn/distributions.py:2619: FutureWarning: `distplot` is a deprecated function and will be removed in a future version. Please adapt your code to use either `displot` (a figure-level function with similar flexibility) or `histplot` (an axes-level function for histograms).\n",
            "  warnings.warn(msg, FutureWarning)\n"
          ]
        },
        {
          "output_type": "display_data",
          "data": {
            "text/plain": [
              "<Figure size 432x288 with 1 Axes>"
            ],
            "image/png": "[encoded data removed]"
          },
          "metadata": {
            "needs_background": "light"
          }
        }
      ]
    },
    {
      "cell_type": "markdown",
      "source": [
        "Plotting a Distplot Without the Histogram"
      ],
      "metadata": {
        "id": "XBXsZD00a-Yv"
      }
    },
    {
      "cell_type": "code",
      "source": [
        "import matplotlib.pyplot as plt\n",
        "import seaborn as sns\n",
        "\n",
        "sns.distplot([0, 1, 2, 3, 4, 5], hist=False)\n",
        "\n",
        "plt.show()\n",
        "#We will be using: sns.distplot(arr, hist=False) to visualize random distributions in this tutorial."
      ],
      "metadata": {
        "colab": {
          "base_uri": "https://localhost:8080/",
          "height": 320
        },
        "id": "bhbu1V93Ol4C",
        "outputId": "3671c3ca-38e6-4bfd-f615-86bc42560860"
      },
      "execution_count": 44,
      "outputs": [
        {
          "output_type": "stream",
          "name": "stderr",
          "text": [
            "/usr/local/lib/python3.7/dist-packages/seaborn/distributions.py:2619: FutureWarning: `distplot` is a deprecated function and will be removed in a future version. Please adapt your code to use either `displot` (a figure-level function with similar flexibility) or `kdeplot` (an axes-level function for kernel density plots).\n",
            "  warnings.warn(msg, FutureWarning)\n"
          ]
        },
        {
          "output_type": "display_data",
          "data": {
            "text/plain": [
              "<Figure size 432x288 with 1 Axes>"
            ],
            "image/png": "[encoded data removed]"
          },
          "metadata": {
            "needs_background": "light"
          }
        }
      ]
    },
    {
      "cell_type": "markdown",
      "source": [
        "## **Normal (Gaussian) Distribution**"
      ],
      "metadata": {
        "id": "JgqDXkcUbfif"
      }
    },
    {
      "cell_type": "markdown",
      "source": [
        "# **Normal Distribution**\n",
        "\n",
        "The Normal Distribution is one of the most important distributions.\n",
        "\n",
        "It is also called the Gaussian Distribution after the German mathematician Carl Friedrich Gauss.\n",
        "\n",
        "It fits the probability distribution of many events, eg. IQ Scores, Heartbeat etc.\n",
        "\n",
        "Use the random.normal() method to get a Normal Data Distribution.\n",
        "\n",
        "It has three parameters:\n",
        "\n",
        "**loc - (Mean)** where the peak of the bell exists.\n",
        "\n",
        "**scale - (Standard Deviation)** how flat the graph distribution should be.\n",
        "\n",
        "**size** - The shape of the returned array."
      ],
      "metadata": {
        "id": "ThRRtmUJhBtp"
      }
    },
    {
      "cell_type": "markdown",
      "source": [
        "Generate a random normal distribution of size 2x3:"
      ],
      "metadata": {
        "id": "_16_UTMHhUu9"
      }
    },
    {
      "cell_type": "code",
      "source": [
        "from numpy import random\n",
        "\n",
        "x = random.normal(size=(2, 3))\n",
        "\n",
        "print(x)"
      ],
      "metadata": {
        "colab": {
          "base_uri": "https://localhost:8080/"
        },
        "id": "yZGWJZG1Ol6s",
        "outputId": "c7f8611d-4aa9-4a5d-ff82-37298c795b92"
      },
      "execution_count": 47,
      "outputs": [
        {
          "output_type": "stream",
          "name": "stdout",
          "text": [
            "[[-0.25258972  0.54603226  0.29753599]\n",
            " [-0.24285588  0.48671855 -0.66329716]]\n"
          ]
        }
      ]
    },
    {
      "cell_type": "markdown",
      "source": [
        "Generate a random normal distribution of size 2x3 with mean at 1 and standard deviation of 2:"
      ],
      "metadata": {
        "id": "sKvx1ZzZhgXg"
      }
    },
    {
      "cell_type": "code",
      "source": [
        "from numpy import random\n",
        "\n",
        "x = random.normal(loc=1, scale=2, size=(2, 3))\n",
        "\n",
        "print(x)"
      ],
      "metadata": {
        "colab": {
          "base_uri": "https://localhost:8080/"
        },
        "id": "cqSVPUWvOl-V",
        "outputId": "a6e67891-d8cc-4847-f323-b4e085671a4f"
      },
      "execution_count": 48,
      "outputs": [
        {
          "output_type": "stream",
          "name": "stdout",
          "text": [
            "[[ 2.61858528  3.37203631 -3.08897181]\n",
            " [ 0.88638356  3.49805476  4.59046081]]\n"
          ]
        }
      ]
    },
    {
      "cell_type": "markdown",
      "source": [
        "Visualization of Normal Distribution"
      ],
      "metadata": {
        "id": "CyembZ1bhnj8"
      }
    },
    {
      "cell_type": "code",
      "source": [
        "from numpy import random\n",
        "import matplotlib.pyplot as plt\n",
        "import seaborn as sns\n",
        "\n",
        "sns.distplot(random.normal(size=1000), hist=False)\n",
        "\n",
        "plt.show()"
      ],
      "metadata": {
        "colab": {
          "base_uri": "https://localhost:8080/",
          "height": 320
        },
        "id": "V6uiExtbOmAu",
        "outputId": "e8bffe3b-20bb-42ab-f6d2-76dc2506bd94"
      },
      "execution_count": 51,
      "outputs": [
        {
          "output_type": "stream",
          "name": "stderr",
          "text": [
            "/usr/local/lib/python3.7/dist-packages/seaborn/distributions.py:2619: FutureWarning: `distplot` is a deprecated function and will be removed in a future version. Please adapt your code to use either `displot` (a figure-level function with similar flexibility) or `kdeplot` (an axes-level function for kernel density plots).\n",
            "  warnings.warn(msg, FutureWarning)\n"
          ]
        },
        {
          "output_type": "display_data",
          "data": {
            "text/plain": [
              "<Figure size 432x288 with 1 Axes>"
            ],
            "image/png": "[encoded data removed]"
          },
          "metadata": {
            "needs_background": "light"
          }
        }
      ]
    },
    {
      "cell_type": "markdown",
      "source": [
        "## **Binomial Distribution**"
      ],
      "metadata": {
        "id": "cU0FWjzViEWR"
      }
    },
    {
      "cell_type": "markdown",
      "source": [
        "Binomial Distribution is a Discrete Distribution.\n",
        "\n",
        "It describes the outcome of binary scenarios, e.g. toss of a coin, it will either be head or tails.\n",
        "\n",
        "It has three parameters:\n",
        "\n",
        "**n** - number of trials.\n",
        "\n",
        "**p** - probability of occurence of each trial (e.g. for toss of a coin 0.5 each).\n",
        "\n",
        "**size** - The shape of the returned array."
      ],
      "metadata": {
        "id": "AgqBa7TQiMkV"
      }
    },
    {
      "cell_type": "markdown",
      "source": [
        "Given 10 trials for coin toss generate 10 data points:"
      ],
      "metadata": {
        "id": "m0FuqrHUlfk3"
      }
    },
    {
      "cell_type": "code",
      "source": [
        "from numpy import random\n",
        "\n",
        "x = random.binomial(n=10, p=0.5, size=10)\n",
        "\n",
        "print(x)"
      ],
      "metadata": {
        "colab": {
          "base_uri": "https://localhost:8080/"
        },
        "id": "4F6gLz6tOmEP",
        "outputId": "d917ad01-58f7-4035-e854-2f0b9b51d5b6"
      },
      "execution_count": 52,
      "outputs": [
        {
          "output_type": "stream",
          "name": "stdout",
          "text": [
            "[2 4 6 2 3 6 6 7 6 4]\n"
          ]
        }
      ]
    },
    {
      "cell_type": "markdown",
      "source": [
        "Visualization of Binomial Distribution"
      ],
      "metadata": {
        "id": "FfPT1kCdls-H"
      }
    },
    {
      "cell_type": "code",
      "source": [
        "from numpy import random\n",
        "import matplotlib.pyplot as plt\n",
        "import seaborn as sns\n",
        "\n",
        "sns.distplot(random.binomial(n=10, p=0.5, size=1000), hist=True, kde=False)\n",
        "\n",
        "plt.show()"
      ],
      "metadata": {
        "colab": {
          "base_uri": "https://localhost:8080/",
          "height": 320
        },
        "id": "pvVbRyEdOmGi",
        "outputId": "8d27ad65-4729-4760-89d9-a1edb55f0e01"
      },
      "execution_count": 53,
      "outputs": [
        {
          "output_type": "stream",
          "name": "stderr",
          "text": [
            "/usr/local/lib/python3.7/dist-packages/seaborn/distributions.py:2619: FutureWarning: `distplot` is a deprecated function and will be removed in a future version. Please adapt your code to use either `displot` (a figure-level function with similar flexibility) or `histplot` (an axes-level function for histograms).\n",
            "  warnings.warn(msg, FutureWarning)\n"
          ]
        },
        {
          "output_type": "display_data",
          "data": {
            "text/plain": [
              "<Figure size 432x288 with 1 Axes>"
            ],
            "image/png": "[encoded data removed]"
          },
          "metadata": {
            "needs_background": "light"
          }
        }
      ]
    },
    {
      "cell_type": "markdown",
      "source": [
        "Difference Between Normal and Binomial Distribution\n",
        "\n",
        "The main difference is that normal distribution is continous whereas binomial is discrete, but if there are enough data points it will be quite similar to normal distribution with certain loc and scale."
      ],
      "metadata": {
        "id": "g91x2-QWl-z3"
      }
    },
    {
      "cell_type": "code",
      "source": [
        "from numpy import random\n",
        "import matplotlib.pyplot as plt\n",
        "import seaborn as sns\n",
        "\n",
        "sns.distplot(random.normal(loc=50, scale=5, size=1000), hist=False, label='normal')\n",
        "sns.distplot(random.binomial(n=100, p=0.5, size=1000), hist=False, label='binomial')\n",
        "\n",
        "plt.show()"
      ],
      "metadata": {
        "colab": {
          "base_uri": "https://localhost:8080/",
          "height": 354
        },
        "id": "dGbI8gaHOmJ4",
        "outputId": "23323df9-fbab-484d-9f18-d2d46c8f0e5a"
      },
      "execution_count": 54,
      "outputs": [
        {
          "output_type": "stream",
          "name": "stderr",
          "text": [
            "/usr/local/lib/python3.7/dist-packages/seaborn/distributions.py:2619: FutureWarning: `distplot` is a deprecated function and will be removed in a future version. Please adapt your code to use either `displot` (a figure-level function with similar flexibility) or `kdeplot` (an axes-level function for kernel density plots).\n",
            "  warnings.warn(msg, FutureWarning)\n",
            "/usr/local/lib/python3.7/dist-packages/seaborn/distributions.py:2619: FutureWarning: `distplot` is a deprecated function and will be removed in a future version. Please adapt your code to use either `displot` (a figure-level function with similar flexibility) or `kdeplot` (an axes-level function for kernel density plots).\n",
            "  warnings.warn(msg, FutureWarning)\n"
          ]
        },
        {
          "output_type": "display_data",
          "data": {
            "text/plain": [
              "<Figure size 432x288 with 1 Axes>"
            ],
            "image/png": "[encoded data removed]"
          },
          "metadata": {
            "needs_background": "light"
          }
        }
      ]
    },
    {
      "cell_type": "markdown",
      "source": [
        "Visualization of Binomial Distribution"
      ],
      "metadata": {
        "id": "2m9g3LO6_obd"
      }
    },
    {
      "cell_type": "code",
      "source": [
        "from numpy import random\n",
        "import matplotlib.pyplot as plt\n",
        "import seaborn as sns\n",
        "\n",
        "sns.distplot(random.binomial(n=10, p=0.5, size=1000), hist=True, kde=False)\n",
        "\n",
        "plt.show()"
      ],
      "metadata": {
        "colab": {
          "base_uri": "https://localhost:8080/",
          "height": 320
        },
        "id": "YzN_9jbkOmMB",
        "outputId": "b7bb094c-7edf-4280-9111-3b1ae368313d"
      },
      "execution_count": 59,
      "outputs": [
        {
          "output_type": "stream",
          "name": "stderr",
          "text": [
            "/usr/local/lib/python3.7/dist-packages/seaborn/distributions.py:2619: FutureWarning: `distplot` is a deprecated function and will be removed in a future version. Please adapt your code to use either `displot` (a figure-level function with similar flexibility) or `histplot` (an axes-level function for histograms).\n",
            "  warnings.warn(msg, FutureWarning)\n"
          ]
        },
        {
          "output_type": "display_data",
          "data": {
            "text/plain": [
              "<Figure size 432x288 with 1 Axes>"
            ],
            "image/png": "[encoded data removed]"
          },
          "metadata": {
            "needs_background": "light"
          }
        }
      ]
    },
    {
      "cell_type": "markdown",
      "source": [
        "## **Poisson Distribution**"
      ],
      "metadata": {
        "id": "V8cfprYGD9rH"
      }
    },
    {
      "cell_type": "markdown",
      "source": [
        "Poisson Distribution is a Discrete Distribution.\n",
        "\n",
        "It estimates how many times an event can happen in a specified time. e.g. If someone eats twice a day what is probability he will eat thrice?\n",
        "\n",
        "It has two parameters:\n",
        "\n",
        "lam - rate or known number of occurences e.g. 2 for above problem.\n",
        "\n",
        "size - The shape of the returned array."
      ],
      "metadata": {
        "id": "UHw51FHKENJ8"
      }
    },
    {
      "cell_type": "markdown",
      "source": [
        "Generate a random 1x10 distribution for occurence 2:"
      ],
      "metadata": {
        "id": "RPkQPouFFkzY"
      }
    },
    {
      "cell_type": "code",
      "source": [
        "from numpy import random\n",
        "\n",
        "x = random.poisson(lam=2, size=10)\n",
        "\n",
        "print(x)"
      ],
      "metadata": {
        "colab": {
          "base_uri": "https://localhost:8080/"
        },
        "id": "MTQ5BtgoBAjD",
        "outputId": "14d564d4-6e20-430c-b7b6-af9325262bad"
      },
      "execution_count": 60,
      "outputs": [
        {
          "output_type": "stream",
          "name": "stdout",
          "text": [
            "[2 3 2 4 0 0 1 3 2 6]\n"
          ]
        }
      ]
    },
    {
      "cell_type": "markdown",
      "source": [
        "Visualization of Poisson Distribution"
      ],
      "metadata": {
        "id": "ztAP9TS7FsNk"
      }
    },
    {
      "cell_type": "code",
      "source": [
        "from numpy import random\n",
        "import matplotlib.pyplot as plt\n",
        "import seaborn as sns\n",
        "\n",
        "sns.displot(random.poisson(lam = 2, size = 1000), kde=False)\n",
        "\n",
        "plt.show()"
      ],
      "metadata": {
        "colab": {
          "base_uri": "https://localhost:8080/",
          "height": 369
        },
        "id": "yXqeAlUuBApg",
        "outputId": "9d785911-12e2-462b-ef3e-044e8d46834d"
      },
      "execution_count": 62,
      "outputs": [
        {
          "output_type": "display_data",
          "data": {
            "text/plain": [
              "<Figure size 360x360 with 1 Axes>"
            ],
            "image/png": "[encoded data removed]"
          },
          "metadata": {
            "needs_background": "light"
          }
        }
      ]
    },
    {
      "cell_type": "markdown",
      "source": [
        "Difference Between Normal and Poisson Distribution\n",
        "\n",
        "Normal distribution is continous whereas poisson is discrete.\n",
        "\n",
        "But we can see that similar to binomial for a large enough poisson distribution it will become similar to normal distribution with certain std dev and mean."
      ],
      "metadata": {
        "id": "WURjouPwHozE"
      }
    },
    {
      "cell_type": "code",
      "source": [
        "from numpy import random\n",
        "import matplotlib.pyplot as plt\n",
        "import seaborn as sns\n",
        "\n",
        "sns.distplot(random.normal(loc=50, scale=7, size=1000), hist=False, label='normal')\n",
        "sns.distplot(random.poisson(lam=50, size=1000), hist=False, label='Poisson')\n",
        "\n",
        "plt.show()"
      ],
      "metadata": {
        "colab": {
          "base_uri": "https://localhost:8080/",
          "height": 354
        },
        "id": "NeLfLNZlBAuQ",
        "outputId": "61ea9df8-e73e-4ac3-f2c8-6e2b37bba693"
      },
      "execution_count": 65,
      "outputs": [
        {
          "output_type": "stream",
          "name": "stderr",
          "text": [
            "/usr/local/lib/python3.7/dist-packages/seaborn/distributions.py:2619: FutureWarning: `distplot` is a deprecated function and will be removed in a future version. Please adapt your code to use either `displot` (a figure-level function with similar flexibility) or `kdeplot` (an axes-level function for kernel density plots).\n",
            "  warnings.warn(msg, FutureWarning)\n",
            "/usr/local/lib/python3.7/dist-packages/seaborn/distributions.py:2619: FutureWarning: `distplot` is a deprecated function and will be removed in a future version. Please adapt your code to use either `displot` (a figure-level function with similar flexibility) or `kdeplot` (an axes-level function for kernel density plots).\n",
            "  warnings.warn(msg, FutureWarning)\n"
          ]
        },
        {
          "output_type": "display_data",
          "data": {
            "text/plain": [
              "<Figure size 432x288 with 1 Axes>"
            ],
            "image/png": "[encoded data removed]"
          },
          "metadata": {
            "needs_background": "light"
          }
        }
      ]
    },
    {
      "cell_type": "markdown",
      "source": [
        "Difference Between Poisson and Binomial Distribution\n",
        "\n",
        "The difference is very subtle it is that, binomial distribution is for discrete trials, whereas poisson distribution is for continuous trials.\n",
        "\n",
        "But for very large n and near-zero p binomial distribution is near identical to poisson distribution such that n * p is nearly equal to lam."
      ],
      "metadata": {
        "id": "fAQrw3UnMbdc"
      }
    },
    {
      "cell_type": "code",
      "source": [
        "from numpy import random\n",
        "import matplotlib.pyplot as plt\n",
        "import seaborn as sns\n",
        "\n",
        "sns.distplot(random.binomial(n=1000, p=0.01, size=1000), hist=False, label='binomial')\n",
        "sns.distplot(random.poisson(lam=10, size=1000), hist=False, label='poisson')\n",
        "\n",
        "plt.show()"
      ],
      "metadata": {
        "colab": {
          "base_uri": "https://localhost:8080/",
          "height": 354
        },
        "id": "XVcG1LZYBAzZ",
        "outputId": "f0e39d17-a446-48d6-94f0-44a81d426a98"
      },
      "execution_count": 66,
      "outputs": [
        {
          "output_type": "stream",
          "name": "stderr",
          "text": [
            "/usr/local/lib/python3.7/dist-packages/seaborn/distributions.py:2619: FutureWarning: `distplot` is a deprecated function and will be removed in a future version. Please adapt your code to use either `displot` (a figure-level function with similar flexibility) or `kdeplot` (an axes-level function for kernel density plots).\n",
            "  warnings.warn(msg, FutureWarning)\n",
            "/usr/local/lib/python3.7/dist-packages/seaborn/distributions.py:2619: FutureWarning: `distplot` is a deprecated function and will be removed in a future version. Please adapt your code to use either `displot` (a figure-level function with similar flexibility) or `kdeplot` (an axes-level function for kernel density plots).\n",
            "  warnings.warn(msg, FutureWarning)\n"
          ]
        },
        {
          "output_type": "display_data",
          "data": {
            "text/plain": [
              "<Figure size 432x288 with 1 Axes>"
            ],
            "image/png": "[encoded data removed]"
          },
          "metadata": {
            "needs_background": "light"
          }
        }
      ]
    },
    {
      "cell_type": "code",
      "source": [
        ""
      ],
      "metadata": {
        "id": "vPeIzBL8BA4m"
      },
      "execution_count": null,
      "outputs": []
    },
    {
      "cell_type": "code",
      "source": [
        ""
      ],
      "metadata": {
        "id": "87ySFv29BA74"
      },
      "execution_count": null,
      "outputs": []
    },
    {
      "cell_type": "code",
      "source": [
        ""
      ],
      "metadata": {
        "id": "RotSYnvIBA-n"
      },
      "execution_count": null,
      "outputs": []
    },
    {
      "cell_type": "code",
      "source": [
        ""
      ],
      "metadata": {
        "id": "PMxcCrDSBBBG"
      },
      "execution_count": null,
      "outputs": []
    },
    {
      "cell_type": "code",
      "source": [
        ""
      ],
      "metadata": {
        "id": "lNI0yBQRBBDg"
      },
      "execution_count": null,
      "outputs": []
    },
    {
      "cell_type": "code",
      "source": [
        ""
      ],
      "metadata": {
        "id": "thDB5oXcBBF0"
      },
      "execution_count": null,
      "outputs": []
    },
    {
      "cell_type": "code",
      "source": [
        ""
      ],
      "metadata": {
        "id": "HHVSiPW8OmPr"
      },
      "execution_count": null,
      "outputs": []
    }
  ]
}